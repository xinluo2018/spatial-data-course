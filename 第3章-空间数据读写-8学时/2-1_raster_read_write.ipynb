{
 "cells": [
  {
   "cell_type": "markdown",
   "metadata": {},
   "source": [
    "### 栅格数据读写"
   ]
  },
  {
   "cell_type": "code",
   "execution_count": 33,
   "metadata": {},
   "outputs": [],
   "source": [
    "import rasterio\n"
   ]
  },
  {
   "cell_type": "code",
   "execution_count": 34,
   "metadata": {},
   "outputs": [],
   "source": [
    "path_data = 'data/data-base/region1_l8_20190504_wgs84.tif'"
   ]
  },
  {
   "cell_type": "code",
   "execution_count": 35,
   "metadata": {},
   "outputs": [
    {
     "data": {
      "text/plain": [
       "rasterio.io.DatasetReader"
      ]
     },
     "execution_count": 35,
     "metadata": {},
     "output_type": "execute_result"
    }
   ],
   "source": [
    "rsimg = rasterio.open(path_data)\n",
    "type(rsimg)\n"
   ]
  },
  {
   "cell_type": "code",
   "execution_count": 36,
   "metadata": {},
   "outputs": [
    {
     "name": "stdout",
     "output_type": "stream",
     "text": [
      "EPSG:4326\n"
     ]
    }
   ],
   "source": [
    "print(rsimg.crs)\n"
   ]
  },
  {
   "cell_type": "markdown",
   "metadata": {},
   "source": [
    "转换参数，含义为（x方向分辨率，x方向旋转参数，左上角x坐标，y方向旋转参数，y方向分辨率，左上角y坐标）"
   ]
  },
  {
   "cell_type": "code",
   "execution_count": 37,
   "metadata": {},
   "outputs": [
    {
     "data": {
      "text/plain": [
       "Affine(0.00026949458523585647, 0.0, 87.59975392008562,\n",
       "       0.0, -0.00026949458523585647, 33.29066611418535)"
      ]
     },
     "execution_count": 37,
     "metadata": {},
     "output_type": "execute_result"
    }
   ],
   "source": [
    "rsimg.transform\n"
   ]
  },
  {
   "cell_type": "code",
   "execution_count": 38,
   "metadata": {},
   "outputs": [
    {
     "name": "stdout",
     "output_type": "stream",
     "text": [
      "2636\n",
      "2155\n",
      "6\n"
     ]
    }
   ],
   "source": [
    "print(rsimg.width)\n",
    "print(rsimg.height)\n",
    "print(rsimg.count)"
   ]
  },
  {
   "cell_type": "code",
   "execution_count": 39,
   "metadata": {},
   "outputs": [
    {
     "name": "stdout",
     "output_type": "stream",
     "text": [
      "BoundingBox(left=87.59975392008562, bottom=32.70990528300208, right=88.31014164676733, top=33.29066611418535)\n",
      "GTiff\n"
     ]
    }
   ],
   "source": [
    "print(rsimg.bounds)\n",
    "print(rsimg.driver)"
   ]
  },
  {
   "cell_type": "code",
   "execution_count": 40,
   "metadata": {},
   "outputs": [
    {
     "data": {
      "text/plain": [
       "{'driver': 'GTiff',\n",
       " 'dtype': 'int16',\n",
       " 'nodata': None,\n",
       " 'width': 2636,\n",
       " 'height': 2155,\n",
       " 'count': 6,\n",
       " 'crs': CRS.from_epsg(4326),\n",
       " 'transform': Affine(0.00026949458523585647, 0.0, 87.59975392008562,\n",
       "        0.0, -0.00026949458523585647, 33.29066611418535)}"
      ]
     },
     "execution_count": 40,
     "metadata": {},
     "output_type": "execute_result"
    }
   ],
   "source": [
    "rsimg.meta"
   ]
  },
  {
   "cell_type": "code",
   "execution_count": 52,
   "metadata": {},
   "outputs": [
    {
     "data": {
      "text/plain": [
       "(2155, 2636)"
      ]
     },
     "execution_count": 52,
     "metadata": {},
     "output_type": "execute_result"
    }
   ],
   "source": [
    "band1 = rsimg.read(1)\n",
    "type(band1)\n",
    "band1.shape\n",
    "# bands = rsimg.read()\n",
    "# type(bands)\n",
    "# bands.shape\n"
   ]
  },
  {
   "cell_type": "code",
   "execution_count": 44,
   "metadata": {},
   "outputs": [
    {
     "data": {
      "text/plain": [
       "dtype('int16')"
      ]
     },
     "execution_count": 44,
     "metadata": {},
     "output_type": "execute_result"
    }
   ],
   "source": [
    "band1.shape\n",
    "     "
   ]
  },
  {
   "cell_type": "markdown",
   "metadata": {},
   "source": [
    "#### 栅格数据写出\n",
    "参数准备：driver, height, width, count, dtype, crs, transform"
   ]
  },
  {
   "cell_type": "code",
   "execution_count": 46,
   "metadata": {},
   "outputs": [],
   "source": [
    "driver = 'GTiff'\n",
    "height = 2155\n",
    "width = 2636\n",
    "count = 1\n",
    "dtype = band1.dtype\n",
    "crs = rsimg.crs\n",
    "transform = rsimg.transform\n"
   ]
  },
  {
   "cell_type": "code",
   "execution_count": 53,
   "metadata": {},
   "outputs": [],
   "source": [
    "path_band1 = 'data/data-section-3/band1.tif'\n",
    "with rasterio.open(path_band1, 'w', driver=driver, \n",
    "                   height=height,\n",
    "                   width=width,\n",
    "                   count=count,\n",
    "                   dtype=dtype,\n",
    "                   crs=crs,\n",
    "                   transform=transform) as dst:\n",
    "  dst.write(band1, 1)   ## the number 1 is the number of bands.\n",
    "\n",
    "\n"
   ]
  }
 ],
 "metadata": {
  "kernelspec": {
   "display_name": "venv",
   "language": "python",
   "name": "python3"
  },
  "language_info": {
   "codemirror_mode": {
    "name": "ipython",
    "version": 3
   },
   "file_extension": ".py",
   "mimetype": "text/x-python",
   "name": "python",
   "nbconvert_exporter": "python",
   "pygments_lexer": "ipython3",
   "version": "3.11.5"
  }
 },
 "nbformat": 4,
 "nbformat_minor": 2
}
