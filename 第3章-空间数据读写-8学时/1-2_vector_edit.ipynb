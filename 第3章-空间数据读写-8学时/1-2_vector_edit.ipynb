{
 "cells": [
  {
   "cell_type": "markdown",
   "metadata": {},
   "source": [
    "### vector reading"
   ]
  },
  {
   "cell_type": "code",
   "execution_count": 187,
   "metadata": {},
   "outputs": [],
   "source": [
    "import geopandas\n",
    "import matplotlib.pyplot as plt\n"
   ]
  },
  {
   "cell_type": "code",
   "execution_count": 188,
   "metadata": {},
   "outputs": [],
   "source": [
    "path_data = 'data/data-section-3/kunming_district_gpd.shp'\n"
   ]
  },
  {
   "cell_type": "code",
   "execution_count": 189,
   "metadata": {},
   "outputs": [],
   "source": [
    "gpd = geopandas.read_file(path_data)\n"
   ]
  },
  {
   "cell_type": "code",
   "execution_count": 190,
   "metadata": {},
   "outputs": [
    {
     "data": {
      "text/html": [
       "<div>\n",
       "<style scoped>\n",
       "    .dataframe tbody tr th:only-of-type {\n",
       "        vertical-align: middle;\n",
       "    }\n",
       "\n",
       "    .dataframe tbody tr th {\n",
       "        vertical-align: top;\n",
       "    }\n",
       "\n",
       "    .dataframe thead th {\n",
       "        text-align: right;\n",
       "    }\n",
       "</style>\n",
       "<table border=\"1\" class=\"dataframe\">\n",
       "  <thead>\n",
       "    <tr style=\"text-align: right;\">\n",
       "      <th></th>\n",
       "      <th>index</th>\n",
       "      <th>dt_adcode</th>\n",
       "      <th>dt_name</th>\n",
       "      <th>ct_adcode</th>\n",
       "      <th>ct_name</th>\n",
       "      <th>pr_adcode</th>\n",
       "      <th>pr_name</th>\n",
       "      <th>cn_adcode</th>\n",
       "      <th>cn_name</th>\n",
       "      <th>geometry</th>\n",
       "    </tr>\n",
       "  </thead>\n",
       "  <tbody>\n",
       "    <tr>\n",
       "      <th>0</th>\n",
       "      <td>2279</td>\n",
       "      <td>530102</td>\n",
       "      <td>???</td>\n",
       "      <td>530100</td>\n",
       "      <td>???</td>\n",
       "      <td>530000</td>\n",
       "      <td>???</td>\n",
       "      <td>100000</td>\n",
       "      <td>???????</td>\n",
       "      <td>MULTIPOLYGON (((102.71331 25.13651, 102.71547 ...</td>\n",
       "    </tr>\n",
       "    <tr>\n",
       "      <th>1</th>\n",
       "      <td>2280</td>\n",
       "      <td>530103</td>\n",
       "      <td>???</td>\n",
       "      <td>530100</td>\n",
       "      <td>???</td>\n",
       "      <td>530000</td>\n",
       "      <td>???</td>\n",
       "      <td>100000</td>\n",
       "      <td>???????</td>\n",
       "      <td>POLYGON ((102.71668 25.04473, 102.71663 25.045...</td>\n",
       "    </tr>\n",
       "    <tr>\n",
       "      <th>2</th>\n",
       "      <td>2281</td>\n",
       "      <td>530111</td>\n",
       "      <td>???</td>\n",
       "      <td>530100</td>\n",
       "      <td>???</td>\n",
       "      <td>530000</td>\n",
       "      <td>???</td>\n",
       "      <td>100000</td>\n",
       "      <td>???????</td>\n",
       "      <td>POLYGON ((102.71717 25.03341, 102.71792 25.033...</td>\n",
       "    </tr>\n",
       "    <tr>\n",
       "      <th>3</th>\n",
       "      <td>2282</td>\n",
       "      <td>530112</td>\n",
       "      <td>???</td>\n",
       "      <td>530100</td>\n",
       "      <td>???</td>\n",
       "      <td>530000</td>\n",
       "      <td>???</td>\n",
       "      <td>100000</td>\n",
       "      <td>???????</td>\n",
       "      <td>MULTIPOLYGON (((102.50726 24.86019, 102.50689 ...</td>\n",
       "    </tr>\n",
       "    <tr>\n",
       "      <th>4</th>\n",
       "      <td>2283</td>\n",
       "      <td>530113</td>\n",
       "      <td>???</td>\n",
       "      <td>530100</td>\n",
       "      <td>???</td>\n",
       "      <td>530000</td>\n",
       "      <td>???</td>\n",
       "      <td>100000</td>\n",
       "      <td>???????</td>\n",
       "      <td>POLYGON ((102.80340 26.30291, 102.80537 26.303...</td>\n",
       "    </tr>\n",
       "  </tbody>\n",
       "</table>\n",
       "</div>"
      ],
      "text/plain": [
       "   index dt_adcode dt_name ct_adcode ct_name pr_adcode pr_name cn_adcode  \\\n",
       "0   2279    530102     ???    530100     ???    530000     ???    100000   \n",
       "1   2280    530103     ???    530100     ???    530000     ???    100000   \n",
       "2   2281    530111     ???    530100     ???    530000     ???    100000   \n",
       "3   2282    530112     ???    530100     ???    530000     ???    100000   \n",
       "4   2283    530113     ???    530100     ???    530000     ???    100000   \n",
       "\n",
       "   cn_name                                           geometry  \n",
       "0  ???????  MULTIPOLYGON (((102.71331 25.13651, 102.71547 ...  \n",
       "1  ???????  POLYGON ((102.71668 25.04473, 102.71663 25.045...  \n",
       "2  ???????  POLYGON ((102.71717 25.03341, 102.71792 25.033...  \n",
       "3  ???????  MULTIPOLYGON (((102.50726 24.86019, 102.50689 ...  \n",
       "4  ???????  POLYGON ((102.80340 26.30291, 102.80537 26.303...  "
      ]
     },
     "execution_count": 190,
     "metadata": {},
     "output_type": "execute_result"
    }
   ],
   "source": [
    "gpd.head()\n"
   ]
  },
  {
   "cell_type": "code",
   "execution_count": 191,
   "metadata": {},
   "outputs": [
    {
     "data": {
      "text/html": [
       "<div>\n",
       "<style scoped>\n",
       "    .dataframe tbody tr th:only-of-type {\n",
       "        vertical-align: middle;\n",
       "    }\n",
       "\n",
       "    .dataframe tbody tr th {\n",
       "        vertical-align: top;\n",
       "    }\n",
       "\n",
       "    .dataframe thead th {\n",
       "        text-align: right;\n",
       "    }\n",
       "</style>\n",
       "<table border=\"1\" class=\"dataframe\">\n",
       "  <thead>\n",
       "    <tr style=\"text-align: right;\">\n",
       "      <th></th>\n",
       "      <th>index</th>\n",
       "      <th>dt_adcode</th>\n",
       "      <th>dt_name</th>\n",
       "      <th>ct_adcode</th>\n",
       "      <th>ct_name</th>\n",
       "      <th>pr_adcode</th>\n",
       "      <th>pr_name</th>\n",
       "      <th>cn_adcode</th>\n",
       "      <th>cn_name</th>\n",
       "      <th>geometry</th>\n",
       "    </tr>\n",
       "  </thead>\n",
       "  <tbody>\n",
       "    <tr>\n",
       "      <th>0</th>\n",
       "      <td>2279</td>\n",
       "      <td>530102</td>\n",
       "      <td>wuhua</td>\n",
       "      <td>530100</td>\n",
       "      <td>???</td>\n",
       "      <td>530000</td>\n",
       "      <td>???</td>\n",
       "      <td>100000</td>\n",
       "      <td>???????</td>\n",
       "      <td>MULTIPOLYGON (((102.71331 25.13651, 102.71547 ...</td>\n",
       "    </tr>\n",
       "    <tr>\n",
       "      <th>1</th>\n",
       "      <td>2280</td>\n",
       "      <td>530103</td>\n",
       "      <td>panlong</td>\n",
       "      <td>530100</td>\n",
       "      <td>???</td>\n",
       "      <td>530000</td>\n",
       "      <td>???</td>\n",
       "      <td>100000</td>\n",
       "      <td>???????</td>\n",
       "      <td>POLYGON ((102.71668 25.04473, 102.71663 25.045...</td>\n",
       "    </tr>\n",
       "    <tr>\n",
       "      <th>2</th>\n",
       "      <td>2281</td>\n",
       "      <td>530111</td>\n",
       "      <td>guandu</td>\n",
       "      <td>530100</td>\n",
       "      <td>???</td>\n",
       "      <td>530000</td>\n",
       "      <td>???</td>\n",
       "      <td>100000</td>\n",
       "      <td>???????</td>\n",
       "      <td>POLYGON ((102.71717 25.03341, 102.71792 25.033...</td>\n",
       "    </tr>\n",
       "    <tr>\n",
       "      <th>3</th>\n",
       "      <td>2282</td>\n",
       "      <td>530112</td>\n",
       "      <td>xishan</td>\n",
       "      <td>530100</td>\n",
       "      <td>???</td>\n",
       "      <td>530000</td>\n",
       "      <td>???</td>\n",
       "      <td>100000</td>\n",
       "      <td>???????</td>\n",
       "      <td>MULTIPOLYGON (((102.50726 24.86019, 102.50689 ...</td>\n",
       "    </tr>\n",
       "    <tr>\n",
       "      <th>4</th>\n",
       "      <td>2283</td>\n",
       "      <td>530113</td>\n",
       "      <td>dongchuan</td>\n",
       "      <td>530100</td>\n",
       "      <td>???</td>\n",
       "      <td>530000</td>\n",
       "      <td>???</td>\n",
       "      <td>100000</td>\n",
       "      <td>???????</td>\n",
       "      <td>POLYGON ((102.80340 26.30291, 102.80537 26.303...</td>\n",
       "    </tr>\n",
       "  </tbody>\n",
       "</table>\n",
       "</div>"
      ],
      "text/plain": [
       "   index dt_adcode    dt_name ct_adcode ct_name pr_adcode pr_name cn_adcode  \\\n",
       "0   2279    530102      wuhua    530100     ???    530000     ???    100000   \n",
       "1   2280    530103    panlong    530100     ???    530000     ???    100000   \n",
       "2   2281    530111     guandu    530100     ???    530000     ???    100000   \n",
       "3   2282    530112     xishan    530100     ???    530000     ???    100000   \n",
       "4   2283    530113  dongchuan    530100     ???    530000     ???    100000   \n",
       "\n",
       "   cn_name                                           geometry  \n",
       "0  ???????  MULTIPOLYGON (((102.71331 25.13651, 102.71547 ...  \n",
       "1  ???????  POLYGON ((102.71668 25.04473, 102.71663 25.045...  \n",
       "2  ???????  POLYGON ((102.71717 25.03341, 102.71792 25.033...  \n",
       "3  ???????  MULTIPOLYGON (((102.50726 24.86019, 102.50689 ...  \n",
       "4  ???????  POLYGON ((102.80340 26.30291, 102.80537 26.303...  "
      ]
     },
     "execution_count": 191,
     "metadata": {},
     "output_type": "execute_result"
    }
   ],
   "source": [
    "gpd['dt_name']=['wuhua', 'panlong', 'guandu', 'xishan', 'dongchuan', \\\n",
    "                'chenggong', 'jinning', 'fumin', 'yiliang', 'shilin', \\\n",
    "                  'sonming', 'luquan', 'xundian', 'anning']\n",
    "gpd.head()"
   ]
  },
  {
   "cell_type": "code",
   "execution_count": 192,
   "metadata": {},
   "outputs": [
    {
     "name": "stdout",
     "output_type": "stream",
     "text": [
      "0     0.034791\n",
      "1     0.077424\n",
      "2     0.057091\n",
      "3     0.079255\n",
      "4     0.168411\n",
      "5     0.044592\n",
      "6     0.119249\n",
      "7     0.089100\n",
      "8     0.171084\n",
      "9     0.150078\n",
      "10    0.074254\n",
      "11    0.380659\n",
      "12    0.323476\n",
      "13    0.116103\n",
      "dtype: float64\n"
     ]
    },
    {
     "name": "stderr",
     "output_type": "stream",
     "text": [
      "/var/folders/n0/3pzbdww50rgbs420szyd042c0000gn/T/ipykernel_85998/1975358980.py:1: UserWarning: Geometry is in a geographic CRS. Results from 'area' are likely incorrect. Use 'GeoSeries.to_crs()' to re-project geometries to a projected CRS before this operation.\n",
      "\n",
      "  print(gpd.area)\n"
     ]
    }
   ],
   "source": [
    "print(gpd.area)\n"
   ]
  },
  {
   "cell_type": "code",
   "execution_count": 193,
   "metadata": {},
   "outputs": [
    {
     "data": {
      "text/plain": [
       "<Projected CRS: EPSG:32648>\n",
       "Name: WGS 84 / UTM zone 48N\n",
       "Axis Info [cartesian]:\n",
       "- E[east]: Easting (metre)\n",
       "- N[north]: Northing (metre)\n",
       "Area of Use:\n",
       "- name: Between 102°E and 108°E, northern hemisphere between equator and 84°N, onshore and offshore. Cambodia. China. Indonesia. Laos. Malaysia - West Malaysia. Mongolia. Russian Federation. Singapore. Thailand. Vietnam.\n",
       "- bounds: (102.0, 0.0, 108.0, 84.0)\n",
       "Coordinate Operation:\n",
       "- name: UTM zone 48N\n",
       "- method: Transverse Mercator\n",
       "Datum: World Geodetic System 1984 ensemble\n",
       "- Ellipsoid: WGS 84\n",
       "- Prime Meridian: Greenwich"
      ]
     },
     "execution_count": 193,
     "metadata": {},
     "output_type": "execute_result"
    }
   ],
   "source": [
    "gpd_utm48 = gpd.to_crs(32648)\n",
    "gpd_utm48.crs\n"
   ]
  },
  {
   "cell_type": "code",
   "execution_count": 194,
   "metadata": {},
   "outputs": [
    {
     "data": {
      "text/html": [
       "<div>\n",
       "<style scoped>\n",
       "    .dataframe tbody tr th:only-of-type {\n",
       "        vertical-align: middle;\n",
       "    }\n",
       "\n",
       "    .dataframe tbody tr th {\n",
       "        vertical-align: top;\n",
       "    }\n",
       "\n",
       "    .dataframe thead th {\n",
       "        text-align: right;\n",
       "    }\n",
       "</style>\n",
       "<table border=\"1\" class=\"dataframe\">\n",
       "  <thead>\n",
       "    <tr style=\"text-align: right;\">\n",
       "      <th></th>\n",
       "      <th>index</th>\n",
       "      <th>dt_adcode</th>\n",
       "      <th>dt_name</th>\n",
       "      <th>ct_adcode</th>\n",
       "      <th>ct_name</th>\n",
       "      <th>pr_adcode</th>\n",
       "      <th>pr_name</th>\n",
       "      <th>cn_adcode</th>\n",
       "      <th>cn_name</th>\n",
       "      <th>geometry</th>\n",
       "      <th>area(km2)</th>\n",
       "    </tr>\n",
       "  </thead>\n",
       "  <tbody>\n",
       "    <tr>\n",
       "      <th>0</th>\n",
       "      <td>2279</td>\n",
       "      <td>530102</td>\n",
       "      <td>wuhua</td>\n",
       "      <td>530100</td>\n",
       "      <td>???</td>\n",
       "      <td>530000</td>\n",
       "      <td>???</td>\n",
       "      <td>100000</td>\n",
       "      <td>???????</td>\n",
       "      <td>MULTIPOLYGON (((269466.597 2782018.804, 269686...</td>\n",
       "      <td>388.681330</td>\n",
       "    </tr>\n",
       "    <tr>\n",
       "      <th>1</th>\n",
       "      <td>2280</td>\n",
       "      <td>530103</td>\n",
       "      <td>panlong</td>\n",
       "      <td>530100</td>\n",
       "      <td>???</td>\n",
       "      <td>530000</td>\n",
       "      <td>???</td>\n",
       "      <td>100000</td>\n",
       "      <td>???????</td>\n",
       "      <td>POLYGON ((269635.126 2771844.039, 269631.047 2...</td>\n",
       "      <td>864.295297</td>\n",
       "    </tr>\n",
       "    <tr>\n",
       "      <th>2</th>\n",
       "      <td>2281</td>\n",
       "      <td>530111</td>\n",
       "      <td>guandu</td>\n",
       "      <td>530100</td>\n",
       "      <td>???</td>\n",
       "      <td>530000</td>\n",
       "      <td>???</td>\n",
       "      <td>100000</td>\n",
       "      <td>???????</td>\n",
       "      <td>POLYGON ((269663.017 2770589.114, 269738.678 2...</td>\n",
       "      <td>638.333617</td>\n",
       "    </tr>\n",
       "    <tr>\n",
       "      <th>3</th>\n",
       "      <td>2282</td>\n",
       "      <td>530112</td>\n",
       "      <td>xishan</td>\n",
       "      <td>530100</td>\n",
       "      <td>???</td>\n",
       "      <td>530000</td>\n",
       "      <td>???</td>\n",
       "      <td>100000</td>\n",
       "      <td>???????</td>\n",
       "      <td>MULTIPOLYGON (((248122.204 2751771.711, 248084...</td>\n",
       "      <td>887.075812</td>\n",
       "    </tr>\n",
       "    <tr>\n",
       "      <th>4</th>\n",
       "      <td>2283</td>\n",
       "      <td>530113</td>\n",
       "      <td>dongchuan</td>\n",
       "      <td>530100</td>\n",
       "      <td>???</td>\n",
       "      <td>530000</td>\n",
       "      <td>???</td>\n",
       "      <td>100000</td>\n",
       "      <td>???????</td>\n",
       "      <td>POLYGON ((280703.071 2911092.909, 280900.870 2...</td>\n",
       "      <td>1866.117588</td>\n",
       "    </tr>\n",
       "  </tbody>\n",
       "</table>\n",
       "</div>"
      ],
      "text/plain": [
       "   index dt_adcode    dt_name ct_adcode ct_name pr_adcode pr_name cn_adcode  \\\n",
       "0   2279    530102      wuhua    530100     ???    530000     ???    100000   \n",
       "1   2280    530103    panlong    530100     ???    530000     ???    100000   \n",
       "2   2281    530111     guandu    530100     ???    530000     ???    100000   \n",
       "3   2282    530112     xishan    530100     ???    530000     ???    100000   \n",
       "4   2283    530113  dongchuan    530100     ???    530000     ???    100000   \n",
       "\n",
       "   cn_name                                           geometry    area(km2)  \n",
       "0  ???????  MULTIPOLYGON (((269466.597 2782018.804, 269686...   388.681330  \n",
       "1  ???????  POLYGON ((269635.126 2771844.039, 269631.047 2...   864.295297  \n",
       "2  ???????  POLYGON ((269663.017 2770589.114, 269738.678 2...   638.333617  \n",
       "3  ???????  MULTIPOLYGON (((248122.204 2751771.711, 248084...   887.075812  \n",
       "4  ???????  POLYGON ((280703.071 2911092.909, 280900.870 2...  1866.117588  "
      ]
     },
     "execution_count": 194,
     "metadata": {},
     "output_type": "execute_result"
    }
   ],
   "source": [
    "area = gpd_utm48.area/1000000\n",
    "# print(area)\n",
    "gpd_utm48['area(km2)'] = area\n",
    "gpd_utm48.head()\n"
   ]
  },
  {
   "cell_type": "code",
   "execution_count": 195,
   "metadata": {},
   "outputs": [
    {
     "data": {
      "text/html": [
       "<div>\n",
       "<style scoped>\n",
       "    .dataframe tbody tr th:only-of-type {\n",
       "        vertical-align: middle;\n",
       "    }\n",
       "\n",
       "    .dataframe tbody tr th {\n",
       "        vertical-align: top;\n",
       "    }\n",
       "\n",
       "    .dataframe thead th {\n",
       "        text-align: right;\n",
       "    }\n",
       "</style>\n",
       "<table border=\"1\" class=\"dataframe\">\n",
       "  <thead>\n",
       "    <tr style=\"text-align: right;\">\n",
       "      <th></th>\n",
       "      <th>index</th>\n",
       "      <th>dt_adcode</th>\n",
       "      <th>dt_name</th>\n",
       "      <th>ct_adcode</th>\n",
       "      <th>ct_name</th>\n",
       "      <th>pr_adcode</th>\n",
       "      <th>pr_name</th>\n",
       "      <th>cn_adcode</th>\n",
       "      <th>cn_name</th>\n",
       "      <th>geometry</th>\n",
       "      <th>area(km2)</th>\n",
       "      <th>centroid</th>\n",
       "    </tr>\n",
       "  </thead>\n",
       "  <tbody>\n",
       "    <tr>\n",
       "      <th>0</th>\n",
       "      <td>2279</td>\n",
       "      <td>530102</td>\n",
       "      <td>wuhua</td>\n",
       "      <td>530100</td>\n",
       "      <td>???</td>\n",
       "      <td>530000</td>\n",
       "      <td>???</td>\n",
       "      <td>100000</td>\n",
       "      <td>???????</td>\n",
       "      <td>MULTIPOLYGON (((269466.597 2782018.804, 269686...</td>\n",
       "      <td>388.681330</td>\n",
       "      <td>POINT (264056.820 2787983.365)</td>\n",
       "    </tr>\n",
       "    <tr>\n",
       "      <th>1</th>\n",
       "      <td>2280</td>\n",
       "      <td>530103</td>\n",
       "      <td>panlong</td>\n",
       "      <td>530100</td>\n",
       "      <td>???</td>\n",
       "      <td>530000</td>\n",
       "      <td>???</td>\n",
       "      <td>100000</td>\n",
       "      <td>???????</td>\n",
       "      <td>POLYGON ((269635.126 2771844.039, 269631.047 2...</td>\n",
       "      <td>864.295297</td>\n",
       "      <td>POINT (280956.817 2796083.348)</td>\n",
       "    </tr>\n",
       "    <tr>\n",
       "      <th>2</th>\n",
       "      <td>2281</td>\n",
       "      <td>530111</td>\n",
       "      <td>guandu</td>\n",
       "      <td>530100</td>\n",
       "      <td>???</td>\n",
       "      <td>530000</td>\n",
       "      <td>???</td>\n",
       "      <td>100000</td>\n",
       "      <td>???????</td>\n",
       "      <td>POLYGON ((269663.017 2770589.114, 269738.678 2...</td>\n",
       "      <td>638.333617</td>\n",
       "      <td>POINT (286733.769 2773058.814)</td>\n",
       "    </tr>\n",
       "    <tr>\n",
       "      <th>3</th>\n",
       "      <td>2282</td>\n",
       "      <td>530112</td>\n",
       "      <td>xishan</td>\n",
       "      <td>530100</td>\n",
       "      <td>???</td>\n",
       "      <td>530000</td>\n",
       "      <td>???</td>\n",
       "      <td>100000</td>\n",
       "      <td>???????</td>\n",
       "      <td>MULTIPOLYGON (((248122.204 2751771.711, 248084...</td>\n",
       "      <td>887.075812</td>\n",
       "      <td>POINT (253383.598 2764249.083)</td>\n",
       "    </tr>\n",
       "    <tr>\n",
       "      <th>4</th>\n",
       "      <td>2283</td>\n",
       "      <td>530113</td>\n",
       "      <td>dongchuan</td>\n",
       "      <td>530100</td>\n",
       "      <td>???</td>\n",
       "      <td>530000</td>\n",
       "      <td>???</td>\n",
       "      <td>100000</td>\n",
       "      <td>???????</td>\n",
       "      <td>POLYGON ((280703.071 2911092.909, 280900.870 2...</td>\n",
       "      <td>1866.117588</td>\n",
       "      <td>POINT (307239.986 2891912.392)</td>\n",
       "    </tr>\n",
       "  </tbody>\n",
       "</table>\n",
       "</div>"
      ],
      "text/plain": [
       "   index dt_adcode    dt_name ct_adcode ct_name pr_adcode pr_name cn_adcode  \\\n",
       "0   2279    530102      wuhua    530100     ???    530000     ???    100000   \n",
       "1   2280    530103    panlong    530100     ???    530000     ???    100000   \n",
       "2   2281    530111     guandu    530100     ???    530000     ???    100000   \n",
       "3   2282    530112     xishan    530100     ???    530000     ???    100000   \n",
       "4   2283    530113  dongchuan    530100     ???    530000     ???    100000   \n",
       "\n",
       "   cn_name                                           geometry    area(km2)  \\\n",
       "0  ???????  MULTIPOLYGON (((269466.597 2782018.804, 269686...   388.681330   \n",
       "1  ???????  POLYGON ((269635.126 2771844.039, 269631.047 2...   864.295297   \n",
       "2  ???????  POLYGON ((269663.017 2770589.114, 269738.678 2...   638.333617   \n",
       "3  ???????  MULTIPOLYGON (((248122.204 2751771.711, 248084...   887.075812   \n",
       "4  ???????  POLYGON ((280703.071 2911092.909, 280900.870 2...  1866.117588   \n",
       "\n",
       "                         centroid  \n",
       "0  POINT (264056.820 2787983.365)  \n",
       "1  POINT (280956.817 2796083.348)  \n",
       "2  POINT (286733.769 2773058.814)  \n",
       "3  POINT (253383.598 2764249.083)  \n",
       "4  POINT (307239.986 2891912.392)  "
      ]
     },
     "execution_count": 195,
     "metadata": {},
     "output_type": "execute_result"
    }
   ],
   "source": [
    "gpd_utm48.centroid\n",
    "gpd_utm48['centroid'] = gpd_utm48.centroid\n",
    "gpd_utm48.head()\n"
   ]
  },
  {
   "cell_type": "code",
   "execution_count": 196,
   "metadata": {},
   "outputs": [
    {
     "name": "stderr",
     "output_type": "stream",
     "text": [
      "/Users/luo/miniconda3/envs/venv/lib/python3.11/site-packages/geopandas/plotting.py:48: ShapelyDeprecationWarning: The 'type' attribute is deprecated, and will be removed in the future. You can use the 'geom_type' attribute instead.\n",
      "  if geom is not None and geom.type.startswith(prefix) and not geom.is_empty:\n"
     ]
    },
    {
     "data": {
      "text/plain": [
       "[<matplotlib.axis.XTick at 0x12db14490>,\n",
       " <matplotlib.axis.XTick at 0x12db21350>]"
      ]
     },
     "execution_count": 196,
     "metadata": {},
     "output_type": "execute_result"
    },
    {
     "data": {
      "image/png": "[encoded data removed]",
      "text/plain": [
       "<Figure size 600x600 with 2 Axes>"
      ]
     },
     "metadata": {},
     "output_type": "display_data"
    }
   ],
   "source": [
    "ax = gpd_utm48.plot('area(km2)', legend=True, figsize=(6,6))\n",
    "ax.set_xticks([200000, 300000])\n"
   ]
  },
  {
   "cell_type": "code",
   "execution_count": 197,
   "metadata": {},
   "outputs": [
    {
     "name": "stderr",
     "output_type": "stream",
     "text": [
      "/Users/luo/miniconda3/envs/venv/lib/python3.11/site-packages/geopandas/plotting.py:48: ShapelyDeprecationWarning: The 'type' attribute is deprecated, and will be removed in the future. You can use the 'geom_type' attribute instead.\n",
      "  if geom is not None and geom.type.startswith(prefix) and not geom.is_empty:\n"
     ]
    },
    {
     "data": {
      "image/png": "[encoded data removed]",
      "text/plain": [
       "<Figure size 640x480 with 2 Axes>"
      ]
     },
     "metadata": {},
     "output_type": "display_data"
    }
   ],
   "source": [
    "ax = gpd_utm48.plot(\"area(km2)\", legend=True)\n",
    "ax = gpd_utm48['centroid'].plot(color='red', ax=ax)\n"
   ]
  },
  {
   "cell_type": "code",
   "execution_count": 198,
   "metadata": {},
   "outputs": [
    {
     "data": {
      "text/html": [
       "<div>\n",
       "<style scoped>\n",
       "    .dataframe tbody tr th:only-of-type {\n",
       "        vertical-align: middle;\n",
       "    }\n",
       "\n",
       "    .dataframe tbody tr th {\n",
       "        vertical-align: top;\n",
       "    }\n",
       "\n",
       "    .dataframe thead th {\n",
       "        text-align: right;\n",
       "    }\n",
       "</style>\n",
       "<table border=\"1\" class=\"dataframe\">\n",
       "  <thead>\n",
       "    <tr style=\"text-align: right;\">\n",
       "      <th></th>\n",
       "      <th>index</th>\n",
       "      <th>dt_adcode</th>\n",
       "      <th>dt_name</th>\n",
       "      <th>ct_adcode</th>\n",
       "      <th>ct_name</th>\n",
       "      <th>pr_adcode</th>\n",
       "      <th>pr_name</th>\n",
       "      <th>cn_adcode</th>\n",
       "      <th>cn_name</th>\n",
       "      <th>geometry</th>\n",
       "      <th>area(km2)</th>\n",
       "    </tr>\n",
       "  </thead>\n",
       "  <tbody>\n",
       "    <tr>\n",
       "      <th>0</th>\n",
       "      <td>2279</td>\n",
       "      <td>530102</td>\n",
       "      <td>wuhua</td>\n",
       "      <td>530100</td>\n",
       "      <td>???</td>\n",
       "      <td>530000</td>\n",
       "      <td>???</td>\n",
       "      <td>100000</td>\n",
       "      <td>???????</td>\n",
       "      <td>MULTIPOLYGON (((269466.597 2782018.804, 269686...</td>\n",
       "      <td>388.681330</td>\n",
       "    </tr>\n",
       "    <tr>\n",
       "      <th>1</th>\n",
       "      <td>2280</td>\n",
       "      <td>530103</td>\n",
       "      <td>panlong</td>\n",
       "      <td>530100</td>\n",
       "      <td>???</td>\n",
       "      <td>530000</td>\n",
       "      <td>???</td>\n",
       "      <td>100000</td>\n",
       "      <td>???????</td>\n",
       "      <td>POLYGON ((269635.126 2771844.039, 269631.047 2...</td>\n",
       "      <td>864.295297</td>\n",
       "    </tr>\n",
       "    <tr>\n",
       "      <th>2</th>\n",
       "      <td>2281</td>\n",
       "      <td>530111</td>\n",
       "      <td>guandu</td>\n",
       "      <td>530100</td>\n",
       "      <td>???</td>\n",
       "      <td>530000</td>\n",
       "      <td>???</td>\n",
       "      <td>100000</td>\n",
       "      <td>???????</td>\n",
       "      <td>POLYGON ((269663.017 2770589.114, 269738.678 2...</td>\n",
       "      <td>638.333617</td>\n",
       "    </tr>\n",
       "    <tr>\n",
       "      <th>3</th>\n",
       "      <td>2282</td>\n",
       "      <td>530112</td>\n",
       "      <td>xishan</td>\n",
       "      <td>530100</td>\n",
       "      <td>???</td>\n",
       "      <td>530000</td>\n",
       "      <td>???</td>\n",
       "      <td>100000</td>\n",
       "      <td>???????</td>\n",
       "      <td>MULTIPOLYGON (((248122.204 2751771.711, 248084...</td>\n",
       "      <td>887.075812</td>\n",
       "    </tr>\n",
       "    <tr>\n",
       "      <th>4</th>\n",
       "      <td>2283</td>\n",
       "      <td>530113</td>\n",
       "      <td>dongchuan</td>\n",
       "      <td>530100</td>\n",
       "      <td>???</td>\n",
       "      <td>530000</td>\n",
       "      <td>???</td>\n",
       "      <td>100000</td>\n",
       "      <td>???????</td>\n",
       "      <td>POLYGON ((280703.071 2911092.909, 280900.870 2...</td>\n",
       "      <td>1866.117588</td>\n",
       "    </tr>\n",
       "  </tbody>\n",
       "</table>\n",
       "</div>"
      ],
      "text/plain": [
       "   index dt_adcode    dt_name ct_adcode ct_name pr_adcode pr_name cn_adcode  \\\n",
       "0   2279    530102      wuhua    530100     ???    530000     ???    100000   \n",
       "1   2280    530103    panlong    530100     ???    530000     ???    100000   \n",
       "2   2281    530111     guandu    530100     ???    530000     ???    100000   \n",
       "3   2282    530112     xishan    530100     ???    530000     ???    100000   \n",
       "4   2283    530113  dongchuan    530100     ???    530000     ???    100000   \n",
       "\n",
       "   cn_name                                           geometry    area(km2)  \n",
       "0  ???????  MULTIPOLYGON (((269466.597 2782018.804, 269686...   388.681330  \n",
       "1  ???????  POLYGON ((269635.126 2771844.039, 269631.047 2...   864.295297  \n",
       "2  ???????  POLYGON ((269663.017 2770589.114, 269738.678 2...   638.333617  \n",
       "3  ???????  MULTIPOLYGON (((248122.204 2751771.711, 248084...   887.075812  \n",
       "4  ???????  POLYGON ((280703.071 2911092.909, 280900.870 2...  1866.117588  "
      ]
     },
     "execution_count": 198,
     "metadata": {},
     "output_type": "execute_result"
    }
   ],
   "source": [
    "gpd_utm48 = gpd_utm48.drop('centroid', axis=1)\n",
    "gpd_utm48.head()\n"
   ]
  },
  {
   "cell_type": "markdown",
   "metadata": {},
   "source": [
    "#### 利用geopandas创建矢量文件\n",
    "创建选课同学矢量文件，包含同学家乡所在地位置几何信息，以及学生姓名、性别属性信息"
   ]
  },
  {
   "cell_type": "code",
   "execution_count": 199,
   "metadata": {},
   "outputs": [
    {
     "data": {
      "text/html": [
       "<div>\n",
       "<style scoped>\n",
       "    .dataframe tbody tr th:only-of-type {\n",
       "        vertical-align: middle;\n",
       "    }\n",
       "\n",
       "    .dataframe tbody tr th {\n",
       "        vertical-align: top;\n",
       "    }\n",
       "\n",
       "    .dataframe thead th {\n",
       "        text-align: right;\n",
       "    }\n",
       "</style>\n",
       "<table border=\"1\" class=\"dataframe\">\n",
       "  <thead>\n",
       "    <tr style=\"text-align: right;\">\n",
       "      <th></th>\n",
       "      <th>name</th>\n",
       "      <th>gender</th>\n",
       "      <th>geometry</th>\n",
       "    </tr>\n",
       "  </thead>\n",
       "  <tbody>\n",
       "    <tr>\n",
       "      <th>0</th>\n",
       "      <td>zhang3</td>\n",
       "      <td>male</td>\n",
       "      <td>POINT Z (102.90000 25.64000 1000.00000)</td>\n",
       "    </tr>\n",
       "    <tr>\n",
       "      <th>1</th>\n",
       "      <td>li4</td>\n",
       "      <td>female</td>\n",
       "      <td>POINT Z (102.50000 25.86000 1000.00000)</td>\n",
       "    </tr>\n",
       "    <tr>\n",
       "      <th>2</th>\n",
       "      <td>wang5</td>\n",
       "      <td>male</td>\n",
       "      <td>POINT Z (102.60000 24.63000 1000.00000)</td>\n",
       "    </tr>\n",
       "  </tbody>\n",
       "</table>\n",
       "</div>"
      ],
      "text/plain": [
       "     name  gender                                 geometry\n",
       "0  zhang3    male  POINT Z (102.90000 25.64000 1000.00000)\n",
       "1     li4  female  POINT Z (102.50000 25.86000 1000.00000)\n",
       "2   wang5    male  POINT Z (102.60000 24.63000 1000.00000)"
      ]
     },
     "execution_count": 199,
     "metadata": {},
     "output_type": "execute_result"
    }
   ],
   "source": [
    "from shapely.geometry import Point  ## 第六章节细讲\n",
    "\n",
    "student_attr = {'name': ['zhang3', 'li4', 'wang5'], 'gender': ['male', 'female', 'male']}\n",
    "student_loc = [Point(102.9, 25.64, 1000), Point(102.5, 25.86, 1000),  Point(102.6, 24.63, 1000)]\n",
    "gpd_student = geopandas.GeoDataFrame(data=student_attr,  geometry=student_loc, crs='EPSG:4326')\n",
    "gpd_student.head()\n",
    "# gpd_student.plot()\n"
   ]
  },
  {
   "cell_type": "code",
   "execution_count": 200,
   "metadata": {},
   "outputs": [
    {
     "name": "stderr",
     "output_type": "stream",
     "text": [
      "/Users/luo/miniconda3/envs/venv/lib/python3.11/site-packages/geopandas/plotting.py:641: UserWarning: Only specify one of 'column' or 'color'. Using 'color'.\n",
      "  warnings.warn(\n",
      "/Users/luo/miniconda3/envs/venv/lib/python3.11/site-packages/geopandas/plotting.py:48: ShapelyDeprecationWarning: The 'type' attribute is deprecated, and will be removed in the future. You can use the 'geom_type' attribute instead.\n",
      "  if geom is not None and geom.type.startswith(prefix) and not geom.is_empty:\n"
     ]
    },
    {
     "data": {
      "text/plain": [
       "<Axes: >"
      ]
     },
     "execution_count": 200,
     "metadata": {},
     "output_type": "execute_result"
    },
    {
     "data": {
      "image/png": "[encoded data removed]",
      "text/plain": [
       "<Figure size 640x480 with 1 Axes>"
      ]
     },
     "metadata": {},
     "output_type": "display_data"
    }
   ],
   "source": [
    "ax = gpd.plot('dt_name', color='grey', edgecolor='black', alpha=0.4)\n",
    "gpd_student.plot(ax=ax, color='red')\n"
   ]
  },
  {
   "cell_type": "markdown",
   "metadata": {},
   "source": [
    "#### 矢量数据写出"
   ]
  },
  {
   "cell_type": "code",
   "execution_count": 201,
   "metadata": {},
   "outputs": [],
   "source": [
    "path_out = 'data/data-section-3/kunming_district_gpd_.shp'\n",
    "path_student = 'data/data-section-3/student_gpd.shp'\n",
    "# gpd_utm48.to_file(path_out)\n",
    "gpd_student.to_file(path_student)\n"
   ]
  },
  {
   "cell_type": "markdown",
   "metadata": {},
   "source": [
    "#### 课后练习\n",
    "创建本学期选课同学矢量数据。属性字段包含同学姓名、性别、出生年份。几何字段为同学家乡所在位置（经度、纬度）。\n"
   ]
  }
 ],
 "metadata": {
  "kernelspec": {
   "display_name": "venv",
   "language": "python",
   "name": "python3"
  },
  "language_info": {
   "codemirror_mode": {
    "name": "ipython",
    "version": 3
   },
   "file_extension": ".py",
   "mimetype": "text/x-python",
   "name": "python",
   "nbconvert_exporter": "python",
   "pygments_lexer": "ipython3",
   "version": "3.11.5"
  }
 },
 "nbformat": 4,
 "nbformat_minor": 2
}
