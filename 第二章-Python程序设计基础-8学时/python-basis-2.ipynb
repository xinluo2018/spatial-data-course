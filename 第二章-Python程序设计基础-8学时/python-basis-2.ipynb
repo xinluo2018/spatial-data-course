{
 "cells": [
  {
   "cell_type": "code",
   "execution_count": 2,
   "metadata": {},
   "outputs": [
    {
     "name": "stdout",
     "output_type": "stream",
     "text": [
      "hellow world\n"
     ]
    }
   ],
   "source": [
    "print('hellow world')\n"
   ]
  },
  {
   "cell_type": "markdown",
   "metadata": {},
   "source": [
    "### 1、函数、类和模块\n",
    "1.1 函数"
   ]
  },
  {
   "cell_type": "code",
   "execution_count": 2,
   "metadata": {},
   "outputs": [
    {
     "name": "stdout",
     "output_type": "stream",
     "text": [
      "3\n"
     ]
    }
   ],
   "source": [
    "def add(a, b):\n",
    "  print(a+b)\n",
    "add(1,2)\n"
   ]
  },
  {
   "cell_type": "code",
   "execution_count": 7,
   "metadata": {},
   "outputs": [
    {
     "name": "stdout",
     "output_type": "stream",
     "text": [
      "超过给定分数的科目数为： 7\n"
     ]
    }
   ],
   "source": [
    "### 自动统计出超出某分数的科目数。\n",
    "scores=[70,76,84,83,94,91,93,79,81,90]\n",
    "def num_higher(s, s_high=90):\n",
    "  num = 0\n",
    "  for score in s:\n",
    "    # print(score)\n",
    "    if score >= s_high:\n",
    "      num=num+1\n",
    "  return num \n",
    "num = num_higher(s=scores, s_high=80)\n",
    "print('超过给定分数的科目数为：', num)\n"
   ]
  },
  {
   "cell_type": "code",
   "execution_count": 16,
   "metadata": {},
   "outputs": [
    {
     "name": "stdout",
     "output_type": "stream",
     "text": [
      "note: this program is starting\n",
      "note: this program is finished\n"
     ]
    },
    {
     "data": {
      "text/plain": [
       "8"
      ]
     },
     "execution_count": 16,
     "metadata": {},
     "output_type": "execute_result"
    }
   ],
   "source": [
    "### 装饰器\n",
    "def scores_mean(a,b):\n",
    "  print('note: this program is starting')\n",
    "  mean = (a+b)/2\n",
    "  print('note: this program is finished')\n",
    "  return mean\n",
    "\n",
    "def scores_add(a,b):\n",
    "  print('note: this program is starting')\n",
    "  sum = a+b\n",
    "  print('note: this program is finished')\n",
    "  return sum\n",
    "\n",
    "scores_add(a=3, b=5)\n"
   ]
  },
  {
   "cell_type": "code",
   "execution_count": 34,
   "metadata": {},
   "outputs": [
    {
     "name": "stdout",
     "output_type": "stream",
     "text": [
      "note: this program is starting\n",
      "note: this program is finished\n"
     ]
    },
    {
     "data": {
      "text/plain": [
       "4.0"
      ]
     },
     "execution_count": 34,
     "metadata": {},
     "output_type": "execute_result"
    }
   ],
   "source": [
    "def print_start_end(fun):\n",
    "  def wrapper(*args):\n",
    "    print('note: this program is starting')\n",
    "    result = fun(*args)\n",
    "    print('note: this program is finished')\n",
    "    return result\n",
    "  return wrapper\n",
    "\n",
    "@print_start_end\n",
    "def scores_mean(a, b):\n",
    "  mean = (a+b)/2\n",
    "  return mean\n",
    "\n",
    "@print_start_end\n",
    "def scores_sum(a, b):\n",
    "  sum = a+b\n",
    "  return sum\n",
    "\n",
    "scores_mean(3, 5)\n"
   ]
  },
  {
   "cell_type": "markdown",
   "metadata": {},
   "source": [
    "1.2 类"
   ]
  },
  {
   "cell_type": "code",
   "execution_count": 2,
   "metadata": {},
   "outputs": [
    {
     "name": "stdout",
     "output_type": "stream",
     "text": [
      "平均分: 75.0\n"
     ]
    }
   ],
   "source": [
    "### 类的定义\n",
    "class Student():\n",
    "  grade = 2023    ## 类变量\n",
    "  def __init__(self, name, age):\n",
    "    self.name=name    ## 实例变量\n",
    "    self.age = age\n",
    "  def scores_mean(self, score_1, score_2):   ## 类方法\n",
    "    mean = (score_1+score_2)/2\n",
    "    return mean\n",
    "  # def num_higher(self, s, s_high=90):\n",
    "  #   num = 0\n",
    "  #   for score in s:\n",
    "  #     # print(score)\n",
    "  #     if score >= s_high:\n",
    "  #       num=num+1\n",
    "  #   return num \n",
    "\n",
    "### 类的实例\n",
    "zhang3 = Student(name='zhang3', age=18)\n",
    "mean = zhang3.scores_mean(90, 60)\n",
    "print('平均分:', mean)\n",
    "# num_high = zhang3.num_higher(s=scores)\n",
    "# print('高分科目科数：', num_high)\n"
   ]
  },
  {
   "cell_type": "code",
   "execution_count": 6,
   "metadata": {},
   "outputs": [
    {
     "data": {
      "text/plain": [
       "84.0"
      ]
     },
     "execution_count": 6,
     "metadata": {},
     "output_type": "execute_result"
    }
   ],
   "source": [
    "### 类的继承\n",
    "class StudentPrimary(Student):\n",
    "  def __init__(self, name, age, parent_name):\n",
    "    Student.__init__(self,name, age)\n",
    "    self.parent = parent_name\n",
    "\n",
    "li4 = StudentPrimary(name='li4', age=8, parent_name='zhang3')\n",
    "li4.scores_mean(90,78)\n",
    "\n"
   ]
  },
  {
   "cell_type": "markdown",
   "metadata": {},
   "source": [
    "1.3 模块/包"
   ]
  },
  {
   "cell_type": "code",
   "execution_count": null,
   "metadata": {},
   "outputs": [],
   "source": [
    "### Create module.py file."
   ]
  },
  {
   "cell_type": "code",
   "execution_count": 6,
   "metadata": {},
   "outputs": [
    {
     "name": "stdout",
     "output_type": "stream",
     "text": [
      "4\n"
     ]
    }
   ],
   "source": [
    "import module\n",
    "module.num_higher_\n",
    "num_high = module.num_higher_(s=scores, s_high=85)\n",
    "print(num_high)\n"
   ]
  },
  {
   "cell_type": "code",
   "execution_count": 5,
   "metadata": {},
   "outputs": [
    {
     "name": "stdout",
     "output_type": "stream",
     "text": [
      "this is module_1\n",
      "this is module_2\n"
     ]
    }
   ],
   "source": [
    "from package import module_1\n",
    "from package import module_2\n",
    "module_1.print_name()\n",
    "module_2.print_name()\n"
   ]
  },
  {
   "cell_type": "code",
   "execution_count": 18,
   "metadata": {},
   "outputs": [
    {
     "name": "stdout",
     "output_type": "stream",
     "text": [
      "4484776176\n",
      "<class 'int'>\n",
      "1\n"
     ]
    }
   ],
   "source": [
    "a = 1\n",
    "print(id(a))\n",
    "print(type(a))\n",
    "print(a)\n"
   ]
  },
  {
   "cell_type": "code",
   "execution_count": null,
   "metadata": {},
   "outputs": [],
   "source": []
  }
 ],
 "metadata": {
  "kernelspec": {
   "display_name": "venv",
   "language": "python",
   "name": "python3"
  },
  "language_info": {
   "codemirror_mode": {
    "name": "ipython",
    "version": 3
   },
   "file_extension": ".py",
   "mimetype": "text/x-python",
   "name": "python",
   "nbconvert_exporter": "python",
   "pygments_lexer": "ipython3",
   "version": "3.11.5"
  }
 },
 "nbformat": 4,
 "nbformat_minor": 2
}
