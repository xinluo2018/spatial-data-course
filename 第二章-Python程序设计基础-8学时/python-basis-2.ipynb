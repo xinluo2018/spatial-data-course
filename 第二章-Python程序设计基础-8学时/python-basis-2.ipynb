{
 "cells": [
  {
   "cell_type": "code",
   "execution_count": 2,
   "metadata": {},
   "outputs": [
    {
     "name": "stdout",
     "output_type": "stream",
     "text": [
      "hellow world\n"
     ]
    }
   ],
   "source": [
    "print('hellow world')\n"
   ]
  },
  {
   "cell_type": "markdown",
   "metadata": {},
   "source": [
    "### 1、函数、类和模块\n",
    "1.1 函数"
   ]
  },
  {
   "cell_type": "code",
   "execution_count": 2,
   "metadata": {},
   "outputs": [
    {
     "name": "stdout",
     "output_type": "stream",
     "text": [
      "3\n"
     ]
    }
   ],
   "source": [
    "def add(a, b):\n",
    "  print(a+b)\n",
    "add(1,2)\n"
   ]
  },
  {
   "cell_type": "code",
   "execution_count": 3,
   "metadata": {},
   "outputs": [
    {
     "name": "stdout",
     "output_type": "stream",
     "text": [
      "超过给定分数的同学人数为： 7\n"
     ]
    }
   ],
   "source": [
    "### 自动统计出超出某分数的同学人数。\n",
    "scores=[70,76,84,83,94,91,93,79,81,90]\n",
    "def num_higher(s, s_high=90):\n",
    "  num = 0\n",
    "  for score in s:\n",
    "    # print(score)\n",
    "    if score >= s_high:\n",
    "      num=num+1\n",
    "  return num \n",
    "num = num_higher(s=scores, s_high=80)\n",
    "print('超过给定分数的同学人数为：', num)\n"
   ]
  },
  {
   "cell_type": "markdown",
   "metadata": {},
   "source": [
    "1.2 类"
   ]
  },
  {
   "cell_type": "code",
   "execution_count": 19,
   "metadata": {},
   "outputs": [
    {
     "name": "stdout",
     "output_type": "stream",
     "text": [
      "平均分: 75.0\n",
      "高分科目科数： 4\n"
     ]
    }
   ],
   "source": [
    "### 类的定义\n",
    "class Student():\n",
    "  grade = 2023    ## 类变量\n",
    "  def __init__(self, name):\n",
    "    self.name=name    ## 实例变量\n",
    "  def scores_mean(self, score_1, score_2):   ## 类方法\n",
    "    mean = (score_1+score_2)/2\n",
    "    return mean\n",
    "  # def num_higher(self, s, s_high=90):\n",
    "  #   num = 0\n",
    "  #   for score in s:\n",
    "  #     # print(score)\n",
    "  #     if score >= s_high:\n",
    "  #       num=num+1\n",
    "  #   return num \n",
    "\n",
    "### 类的实例\n",
    "Jack = Student(name='Jack')\n",
    "mean = Jack.scores_mean(90, 60)\n",
    "print('平均分:', mean)\n",
    "# num_high = Jack.num_higher(s=scores)\n",
    "# print('高分科目科数：', num_high)\n"
   ]
  },
  {
   "cell_type": "markdown",
   "metadata": {},
   "source": [
    "\n",
    "\n"
   ]
  },
  {
   "cell_type": "code",
   "execution_count": null,
   "metadata": {},
   "outputs": [],
   "source": [
    "\n",
    "\n"
   ]
  }
 ],
 "metadata": {
  "kernelspec": {
   "display_name": "venv",
   "language": "python",
   "name": "python3"
  },
  "language_info": {
   "codemirror_mode": {
    "name": "ipython",
    "version": 3
   },
   "file_extension": ".py",
   "mimetype": "text/x-python",
   "name": "python",
   "nbconvert_exporter": "python",
   "pygments_lexer": "ipython3",
   "version": "3.11.5"
  }
 },
 "nbformat": 4,
 "nbformat_minor": 2
}
