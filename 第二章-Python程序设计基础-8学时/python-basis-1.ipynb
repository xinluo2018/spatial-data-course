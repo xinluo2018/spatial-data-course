{
 "cells": [
  {
   "cell_type": "code",
   "execution_count": 2,
   "metadata": {},
   "outputs": [
    {
     "name": "stdout",
     "output_type": "stream",
     "text": [
      "hellow world\n"
     ]
    }
   ],
   "source": [
    "print('hellow world')\n"
   ]
  },
  {
   "cell_type": "markdown",
   "metadata": {},
   "source": [
    "### 1、基本数据类型\n",
    "python中7种数据类型：Bool（布尔）、Number（数字）、String（字符串）、List（列表）、Dictionary（字典）、Tuple（元组）、Set（集合）"
   ]
  },
  {
   "cell_type": "code",
   "execution_count": 4,
   "metadata": {},
   "outputs": [
    {
     "name": "stdout",
     "output_type": "stream",
     "text": [
      "bool: True False\n",
      "number (int):, 1\n",
      "number (float):, 1.0\n",
      "string:, hellow world\n",
      "list:, [18, 28, 15]\n",
      "dictionary:, {'小张': 80, '小李': 85, '小周': 78}\n"
     ]
    }
   ],
   "source": [
    "print('bool:', True, False)   ### bool\n",
    "print('number (int):,', 1)   ### number (int)\n",
    "print('number (float):,', 1.0)   ### number (float)\n",
    "print('string:,', 'hellow world')   ### string\n",
    "print('list:,', [18, 28, 15])    ### list\n",
    "print('dictionary:,', {'小张': 80, '小李':85, '小周': 78})   ### string"
   ]
  },
  {
   "cell_type": "code",
   "execution_count": 19,
   "metadata": {},
   "outputs": [
    {
     "name": "stdout",
     "output_type": "stream",
     "text": [
      "int\n",
      "float\n",
      "list\n"
     ]
    }
   ],
   "source": []
  },
  {
   "cell_type": "markdown",
   "metadata": {},
   "source": [
    "### 2. 变量、赋值及运算"
   ]
  },
  {
   "cell_type": "code",
   "execution_count": 22,
   "metadata": {},
   "outputs": [],
   "source": [
    "a = 1; \n",
    "b = 1.0; \n",
    "c= [1, 1.0]\n",
    "d = '1, 1.0'"
   ]
  },
  {
   "cell_type": "code",
   "execution_count": 23,
   "metadata": {},
   "outputs": [
    {
     "name": "stdout",
     "output_type": "stream",
     "text": [
      "int\n",
      "float\n",
      "list\n",
      "str\n"
     ]
    }
   ],
   "source": [
    "print(type(a).__name__)\n",
    "print(type(b).__name__)\n",
    "print(type(c).__name__)\n",
    "print(type(d).__name__)\n"
   ]
  },
  {
   "cell_type": "code",
   "execution_count": 45,
   "metadata": {},
   "outputs": [
    {
     "name": "stdout",
     "output_type": "stream",
     "text": [
      "12\n",
      "True\n",
      "True\n"
     ]
    }
   ],
   "source": [
    "a = 3*4     ### 算术运算\n",
    "print(a)\n",
    "b = 3!=4    ### 比较运算符\n",
    "print(b)\n",
    "c = not 4<3  ### 逻辑运算符\n",
    "print(c)  \n",
    "\n"
   ]
  },
  {
   "cell_type": "markdown",
   "metadata": {},
   "source": [
    "### 3. 判断与循环\n",
    "判断通过if...elif...else...实现 "
   ]
  },
  {
   "cell_type": "code",
   "execution_count": null,
   "metadata": {},
   "outputs": [],
   "source": [
    "### 判断成绩优（>=90），良（>=70,<90）,差（<70）\n",
    "score = 67\n",
    "if score >= 90:\n",
    "  print('成绩为优秀')\n",
    "elif score >= 70 and score<90:\n",
    "  print('成绩为良好')\n",
    "else:\n",
    "  print('成绩为差')\n"
   ]
  },
  {
   "cell_type": "markdown",
   "metadata": {},
   "source": [
    "循环通过for...和while...实现"
   ]
  },
  {
   "cell_type": "code",
   "execution_count": 46,
   "metadata": {},
   "outputs": [
    {
     "name": "stdout",
     "output_type": "stream",
     "text": [
      "70\n",
      "76\n",
      "84\n",
      "83\n",
      "94\n",
      "91\n",
      "93\n",
      "79\n",
      "81\n",
      "90\n"
     ]
    }
   ],
   "source": [
    "### for...\n",
    "scores=[70,76,84,83,94,91,93,79,81,90]\n",
    "for score in scores:\n",
    "  print(score)"
   ]
  },
  {
   "cell_type": "code",
   "execution_count": 47,
   "metadata": {},
   "outputs": [
    {
     "name": "stdout",
     "output_type": "stream",
     "text": [
      "获得成绩为优秀的同学个数为： 4\n"
     ]
    }
   ],
   "source": [
    "### 获得成绩为优秀的同学个数\n",
    "num = 0\n",
    "for score in scores:\n",
    "  if score >= 90:\n",
    "    num=num+1\n",
    "print('获得成绩为优秀的同学个数为：', num)\n"
   ]
  },
  {
   "cell_type": "code",
   "execution_count": 49,
   "metadata": {},
   "outputs": [
    {
     "name": "stdout",
     "output_type": "stream",
     "text": [
      "12\n",
      "14\n",
      "16\n",
      "18\n",
      "20\n"
     ]
    }
   ],
   "source": [
    "num = 10\n",
    "while num < 20:\n",
    "  num += 2\n",
    "  print(num)\n"
   ]
  },
  {
   "cell_type": "markdown",
   "metadata": {},
   "source": [
    "循环终止：break/continue"
   ]
  },
  {
   "cell_type": "code",
   "execution_count": 59,
   "metadata": {},
   "outputs": [
    {
     "name": "stdout",
     "output_type": "stream",
     "text": [
      "[70, 76, 84, 83, 94, 91, 93, 79, 81, 90]\n",
      "70\n",
      "76\n",
      "84\n",
      "83\n"
     ]
    }
   ],
   "source": [
    "print(scores)\n",
    "for score in scores:\n",
    "  if score >= 90:\n",
    "    break\n",
    "  print(score)\n",
    "  "
   ]
  },
  {
   "cell_type": "code",
   "execution_count": 58,
   "metadata": {},
   "outputs": [
    {
     "name": "stdout",
     "output_type": "stream",
     "text": [
      "70\n",
      "76\n",
      "84\n",
      "83\n",
      "79\n",
      "81\n"
     ]
    }
   ],
   "source": [
    "for score in scores:\n",
    "  if score >= 90:\n",
    "    continue\n",
    "  print(score)\n"
   ]
  }
 ],
 "metadata": {
  "kernelspec": {
   "display_name": "venv",
   "language": "python",
   "name": "python3"
  },
  "language_info": {
   "codemirror_mode": {
    "name": "ipython",
    "version": 3
   },
   "file_extension": ".py",
   "mimetype": "text/x-python",
   "name": "python",
   "nbconvert_exporter": "python",
   "pygments_lexer": "ipython3",
   "version": "3.11.5"
  }
 },
 "nbformat": 4,
 "nbformat_minor": 2
}
