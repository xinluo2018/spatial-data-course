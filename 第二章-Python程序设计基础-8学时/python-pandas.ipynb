{
 "cells": [
  {
   "cell_type": "markdown",
   "metadata": {},
   "source": [
    "### Pandas"
   ]
  },
  {
   "cell_type": "markdown",
   "metadata": {},
   "source": [
    "数据结构：series和dataframe"
   ]
  },
  {
   "cell_type": "code",
   "execution_count": 1,
   "metadata": {},
   "outputs": [
    {
     "name": "stdout",
     "output_type": "stream",
     "text": [
      "0    1\n",
      "1    2\n",
      "2    3\n",
      "3    4\n",
      "dtype: int64\n"
     ]
    }
   ],
   "source": [
    "import pandas as pd\n",
    "import numpy as np\n",
    "a = pd.Series([1,2,3,4])   ## 创建series数据\n",
    "print(a)  ## 坐标索引，右边值\n"
   ]
  },
  {
   "cell_type": "code",
   "execution_count": 48,
   "metadata": {},
   "outputs": [
    {
     "name": "stdout",
     "output_type": "stream",
     "text": [
      "           group1  group2\n",
      "math           80      90\n",
      "geography      70      89\n",
      "english        68      77\n"
     ]
    }
   ],
   "source": [
    "courses = ['math', 'geography', 'english']\n",
    "groups = ['group1', 'group2']\n",
    "scores = np.array([[80,90],\n",
    "                   [70,89],\n",
    "                   [68,77]]) \n",
    "a = pd.DataFrame(scores, index=courses, columns=groups)\n",
    "# a = pd.DataFrame(scores, index=courses)\n",
    "print(a)\n"
   ]
  },
  {
   "cell_type": "code",
   "execution_count": 18,
   "metadata": {},
   "outputs": [
    {
     "name": "stdout",
     "output_type": "stream",
     "text": [
      "90\n"
     ]
    }
   ],
   "source": [
    "# print(a['girl'])   ## 列标签索引\n",
    "# print(a.loc['math'])  ## 行标签索引\n",
    "print(a.iloc[0,1])    ## 利用位置索引\n"
   ]
  },
  {
   "cell_type": "code",
   "execution_count": 4,
   "metadata": {},
   "outputs": [
    {
     "name": "stdout",
     "output_type": "stream",
     "text": [
      "Index(['math', 'geography', 'english'], dtype='object')\n",
      "Index(['group1', 'group2'], dtype='object')\n",
      "[[80 90]\n",
      " [70 89]\n",
      " [68 77]]\n"
     ]
    }
   ],
   "source": [
    "print(a.index)\n",
    "print(a.columns)\n",
    "print(a.values)\n"
   ]
  },
  {
   "cell_type": "code",
   "execution_count": 5,
   "metadata": {},
   "outputs": [
    {
     "name": "stdout",
     "output_type": "stream",
     "text": [
      "          group1     group2\n",
      "count   3.000000   3.000000\n",
      "mean   72.666667  85.333333\n",
      "std     6.429101   7.234178\n",
      "min    68.000000  77.000000\n",
      "25%    69.000000  83.000000\n",
      "50%    70.000000  89.000000\n",
      "75%    75.000000  89.500000\n",
      "max    80.000000  90.000000\n"
     ]
    }
   ],
   "source": [
    "print(a.describe())\n",
    "# print(a.T)\n"
   ]
  },
  {
   "cell_type": "markdown",
   "metadata": {},
   "source": [
    "DataFrame添加删除数据"
   ]
  },
  {
   "cell_type": "code",
   "execution_count": 59,
   "metadata": {},
   "outputs": [
    {
     "name": "stdout",
     "output_type": "stream",
     "text": [
      "           group1  group2\n",
      "math           80      90\n",
      "geography      70      89\n",
      "physics        67      77\n"
     ]
    }
   ],
   "source": [
    "group3 = pd.Series([76,87,86], index=['math', 'geography', 'english'])\n",
    "a['group3'] = group3  ## 添加列\n",
    "a.loc['physics'] = [67, 77, 87]   ## 添加行\n",
    "b = a.drop(['group3'],  axis=1)   ## 删除列\n",
    "c = b.drop(['english'], axis=0)   ## 删除行\n",
    "print(c)\n"
   ]
  },
  {
   "cell_type": "markdown",
   "metadata": {},
   "source": [
    "处理丢失的数据"
   ]
  },
  {
   "cell_type": "code",
   "execution_count": 62,
   "metadata": {},
   "outputs": [
    {
     "name": "stdout",
     "output_type": "stream",
     "text": [
      "           group1  group2\n",
      "math         80.0     0.0\n",
      "geography    70.0    89.0\n",
      "physics       0.0    77.0\n"
     ]
    }
   ],
   "source": [
    "c.iloc[0,1] = np.nan\n",
    "c.iloc[2,0] = np.nan\n",
    "d = c.fillna(value=0)\n",
    "print(d)\n"
   ]
  },
  {
   "cell_type": "code",
   "execution_count": 74,
   "metadata": {},
   "outputs": [
    {
     "name": "stdout",
     "output_type": "stream",
     "text": [
      "           group1  group2\n",
      "math         80.0     0.0\n",
      "geography    70.0    89.0\n",
      "physics       0.0    77.0\n"
     ]
    }
   ],
   "source": [
    "# d.to_csv('student_scores.csv')\n",
    "# e = pd.read_csv('student_scores.csv')\n",
    "e = pd.read_csv('student_scores.csv', index_col=0)\n",
    "print(e)\n"
   ]
  },
  {
   "cell_type": "markdown",
   "metadata": {},
   "source": [
    "数据合并"
   ]
  },
  {
   "cell_type": "code",
   "execution_count": 78,
   "metadata": {},
   "outputs": [
    {
     "name": "stdout",
     "output_type": "stream",
     "text": [
      "           group1  group2  group1  group2\n",
      "math         80.0     NaN    80.0     0.0\n",
      "geography    70.0    89.0    70.0    89.0\n",
      "physics       NaN    77.0     0.0    77.0\n"
     ]
    }
   ],
   "source": [
    "# print(c)\n",
    "# print(d)\n",
    "# e = pd.concat([c,d], axis=0)\n",
    "e = pd.concat([c,d], axis=1)\n",
    "print(e)\n"
   ]
  },
  {
   "cell_type": "markdown",
   "metadata": {},
   "source": [
    "数据可视化"
   ]
  },
  {
   "cell_type": "code",
   "execution_count": 101,
   "metadata": {},
   "outputs": [
    {
     "name": "stdout",
     "output_type": "stream",
     "text": [
      "           group1  group2  group3\n",
      "math           80      90    76.0\n",
      "geography      70      89    87.0\n",
      "english        68      77    86.0\n",
      "physics        67      77    87.0\n"
     ]
    },
    {
     "data": {
      "text/plain": [
       "<Axes: xlabel='group1', ylabel='group2'>"
      ]
     },
     "execution_count": 101,
     "metadata": {},
     "output_type": "execute_result"
    },
    {
     "data": {
      "image/png": "[encoded data removed]",
      "text/plain": [
       "<Figure size 640x480 with 1 Axes>"
      ]
     },
     "metadata": {},
     "output_type": "display_data"
    }
   ],
   "source": [
    "print(a)\n",
    "# a.plot()\n",
    "# a.plot.bar()\n",
    "a.plot.scatter(x='group1', y='group2', color='red')\n"
   ]
  }
 ],
 "metadata": {
  "kernelspec": {
   "display_name": "venv",
   "language": "python",
   "name": "python3"
  },
  "language_info": {
   "codemirror_mode": {
    "name": "ipython",
    "version": 3
   },
   "file_extension": ".py",
   "mimetype": "text/x-python",
   "name": "python",
   "nbconvert_exporter": "python",
   "pygments_lexer": "ipython3",
   "version": "3.10.12"
  }
 },
 "nbformat": 4,
 "nbformat_minor": 2
}
