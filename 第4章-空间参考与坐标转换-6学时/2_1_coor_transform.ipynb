{
 "cells": [
  {
   "cell_type": "markdown",
   "metadata": {},
   "source": [
    "### 坐标系统转换\n",
    "### 1. reproject vector"
   ]
  },
  {
   "cell_type": "code",
   "execution_count": 1,
   "metadata": {},
   "outputs": [],
   "source": [
    "import geopandas as gpd\n",
    "import matplotlib.pyplot as plt\n"
   ]
  },
  {
   "cell_type": "code",
   "execution_count": 2,
   "metadata": {},
   "outputs": [],
   "source": [
    "path_vec = 'data/data-base/vector/China-Province/province.shp'\n"
   ]
  },
  {
   "cell_type": "code",
   "execution_count": 8,
   "metadata": {},
   "outputs": [
    {
     "data": {
      "text/html": [
       "<div>\n",
       "<style scoped>\n",
       "    .dataframe tbody tr th:only-of-type {\n",
       "        vertical-align: middle;\n",
       "    }\n",
       "\n",
       "    .dataframe tbody tr th {\n",
       "        vertical-align: top;\n",
       "    }\n",
       "\n",
       "    .dataframe thead th {\n",
       "        text-align: right;\n",
       "    }\n",
       "</style>\n",
       "<table border=\"1\" class=\"dataframe\">\n",
       "  <thead>\n",
       "    <tr style=\"text-align: right;\">\n",
       "      <th></th>\n",
       "      <th>pr_adcode</th>\n",
       "      <th>pr_name</th>\n",
       "      <th>cn_adcode</th>\n",
       "      <th>cn_name</th>\n",
       "      <th>geometry</th>\n",
       "    </tr>\n",
       "  </thead>\n",
       "  <tbody>\n",
       "    <tr>\n",
       "      <th>0</th>\n",
       "      <td>110000</td>\n",
       "      <td>北京市</td>\n",
       "      <td>100000</td>\n",
       "      <td>中华人民共和国</td>\n",
       "      <td>POLYGON ((116.89226 39.69491, 116.89227 39.694...</td>\n",
       "    </tr>\n",
       "    <tr>\n",
       "      <th>1</th>\n",
       "      <td>120000</td>\n",
       "      <td>天津市</td>\n",
       "      <td>100000</td>\n",
       "      <td>中华人民共和国</td>\n",
       "      <td>MULTIPOLYGON (((113.77712 36.63947, 113.78080 ...</td>\n",
       "    </tr>\n",
       "    <tr>\n",
       "      <th>2</th>\n",
       "      <td>130000</td>\n",
       "      <td>河北省</td>\n",
       "      <td>100000</td>\n",
       "      <td>中华人民共和国</td>\n",
       "      <td>MULTIPOLYGON (((113.56331 36.58910, 113.55295 ...</td>\n",
       "    </tr>\n",
       "    <tr>\n",
       "      <th>3</th>\n",
       "      <td>140000</td>\n",
       "      <td>山西省</td>\n",
       "      <td>100000</td>\n",
       "      <td>中华人民共和国</td>\n",
       "      <td>POLYGON ((114.04201 40.60888, 114.04441 40.611...</td>\n",
       "    </tr>\n",
       "    <tr>\n",
       "      <th>4</th>\n",
       "      <td>150000</td>\n",
       "      <td>内蒙古自治区</td>\n",
       "      <td>100000</td>\n",
       "      <td>中华人民共和国</td>\n",
       "      <td>POLYGON ((119.25798 42.22412, 119.25568 42.220...</td>\n",
       "    </tr>\n",
       "  </tbody>\n",
       "</table>\n",
       "</div>"
      ],
      "text/plain": [
       "  pr_adcode pr_name cn_adcode  cn_name  \\\n",
       "0    110000     北京市    100000  中华人民共和国   \n",
       "1    120000     天津市    100000  中华人民共和国   \n",
       "2    130000     河北省    100000  中华人民共和国   \n",
       "3    140000     山西省    100000  中华人民共和国   \n",
       "4    150000  内蒙古自治区    100000  中华人民共和国   \n",
       "\n",
       "                                            geometry  \n",
       "0  POLYGON ((116.89226 39.69491, 116.89227 39.694...  \n",
       "1  MULTIPOLYGON (((113.77712 36.63947, 113.78080 ...  \n",
       "2  MULTIPOLYGON (((113.56331 36.58910, 113.55295 ...  \n",
       "3  POLYGON ((114.04201 40.60888, 114.04441 40.611...  \n",
       "4  POLYGON ((119.25798 42.22412, 119.25568 42.220...  "
      ]
     },
     "execution_count": 8,
     "metadata": {},
     "output_type": "execute_result"
    }
   ],
   "source": [
    "data_vec = gpd.read_file(path_vec)\n",
    "data_vec.head()"
   ]
  },
  {
   "cell_type": "code",
   "execution_count": 9,
   "metadata": {},
   "outputs": [
    {
     "name": "stdout",
     "output_type": "stream",
     "text": [
      "EPSG:4326\n",
      "[ 73.502355   3.83703  135.09567   53.563624]\n"
     ]
    }
   ],
   "source": [
    "print(data_vec.crs)\n",
    "print(data_vec.total_bounds)\n"
   ]
  },
  {
   "cell_type": "code",
   "execution_count": 5,
   "metadata": {},
   "outputs": [
    {
     "name": "stdout",
     "output_type": "stream",
     "text": [
      "48\n"
     ]
    }
   ],
   "source": [
    "def get_utm_zone(lon):\n",
    "  zone = int(lon/6)+31\n",
    "  return zone\n",
    "utm_zone = get_utm_zone(lon=104)\n",
    "print(utm_zone)"
   ]
  },
  {
   "cell_type": "code",
   "execution_count": 10,
   "metadata": {},
   "outputs": [
    {
     "data": {
      "text/html": [
       "<div>\n",
       "<style scoped>\n",
       "    .dataframe tbody tr th:only-of-type {\n",
       "        vertical-align: middle;\n",
       "    }\n",
       "\n",
       "    .dataframe tbody tr th {\n",
       "        vertical-align: top;\n",
       "    }\n",
       "\n",
       "    .dataframe thead th {\n",
       "        text-align: right;\n",
       "    }\n",
       "</style>\n",
       "<table border=\"1\" class=\"dataframe\">\n",
       "  <thead>\n",
       "    <tr style=\"text-align: right;\">\n",
       "      <th></th>\n",
       "      <th>pr_adcode</th>\n",
       "      <th>pr_name</th>\n",
       "      <th>cn_adcode</th>\n",
       "      <th>cn_name</th>\n",
       "      <th>geometry</th>\n",
       "    </tr>\n",
       "  </thead>\n",
       "  <tbody>\n",
       "    <tr>\n",
       "      <th>0</th>\n",
       "      <td>110000</td>\n",
       "      <td>北京市</td>\n",
       "      <td>100000</td>\n",
       "      <td>中华人民共和国</td>\n",
       "      <td>POLYGON ((1520948.491 4462107.434, 1520952.641...</td>\n",
       "    </tr>\n",
       "    <tr>\n",
       "      <th>1</th>\n",
       "      <td>120000</td>\n",
       "      <td>天津市</td>\n",
       "      <td>100000</td>\n",
       "      <td>中华人民共和国</td>\n",
       "      <td>MULTIPOLYGON (((1285509.516 4090946.792, 12858...</td>\n",
       "    </tr>\n",
       "    <tr>\n",
       "      <th>2</th>\n",
       "      <td>130000</td>\n",
       "      <td>河北省</td>\n",
       "      <td>100000</td>\n",
       "      <td>中华人民共和国</td>\n",
       "      <td>MULTIPOLYGON (((1266836.720 4083597.196, 12659...</td>\n",
       "    </tr>\n",
       "    <tr>\n",
       "      <th>3</th>\n",
       "      <td>140000</td>\n",
       "      <td>山西省</td>\n",
       "      <td>100000</td>\n",
       "      <td>中华人民共和国</td>\n",
       "      <td>POLYGON ((1265405.550 4534829.581, 1265581.817...</td>\n",
       "    </tr>\n",
       "    <tr>\n",
       "      <th>4</th>\n",
       "      <td>150000</td>\n",
       "      <td>内蒙古自治区</td>\n",
       "      <td>100000</td>\n",
       "      <td>中华人民共和国</td>\n",
       "      <td>POLYGON ((1677752.153 4774225.669, 1677637.722...</td>\n",
       "    </tr>\n",
       "  </tbody>\n",
       "</table>\n",
       "</div>"
      ],
      "text/plain": [
       "  pr_adcode pr_name cn_adcode  cn_name  \\\n",
       "0    110000     北京市    100000  中华人民共和国   \n",
       "1    120000     天津市    100000  中华人民共和国   \n",
       "2    130000     河北省    100000  中华人民共和国   \n",
       "3    140000     山西省    100000  中华人民共和国   \n",
       "4    150000  内蒙古自治区    100000  中华人民共和国   \n",
       "\n",
       "                                            geometry  \n",
       "0  POLYGON ((1520948.491 4462107.434, 1520952.641...  \n",
       "1  MULTIPOLYGON (((1285509.516 4090946.792, 12858...  \n",
       "2  MULTIPOLYGON (((1266836.720 4083597.196, 12659...  \n",
       "3  POLYGON ((1265405.550 4534829.581, 1265581.817...  \n",
       "4  POLYGON ((1677752.153 4774225.669, 1677637.722...  "
      ]
     },
     "execution_count": 10,
     "metadata": {},
     "output_type": "execute_result"
    }
   ],
   "source": [
    "data_vec_utm48 = data_vec.copy()\n",
    "data_vec_utm48 = data_vec_utm48.to_crs(epsg=32648)\n",
    "data_vec_utm48.head()\n"
   ]
  },
  {
   "cell_type": "code",
   "execution_count": 11,
   "metadata": {},
   "outputs": [
    {
     "name": "stdout",
     "output_type": "stream",
     "text": [
      "EPSG:32648\n"
     ]
    }
   ],
   "source": [
    "print(data_vec_utm48.crs)\n"
   ]
  },
  {
   "cell_type": "code",
   "execution_count": 35,
   "metadata": {},
   "outputs": [
    {
     "name": "stderr",
     "output_type": "stream",
     "text": [
      "/Users/luo/miniconda3/envs/venv/lib/python3.11/site-packages/geopandas/plotting.py:48: ShapelyDeprecationWarning: The 'type' attribute is deprecated, and will be removed in the future. You can use the 'geom_type' attribute instead.\n",
      "  if geom is not None and geom.type.startswith(prefix) and not geom.is_empty:\n",
      "/Users/luo/miniconda3/envs/venv/lib/python3.11/site-packages/geopandas/plotting.py:48: ShapelyDeprecationWarning: The 'type' attribute is deprecated, and will be removed in the future. You can use the 'geom_type' attribute instead.\n",
      "  if geom is not None and geom.type.startswith(prefix) and not geom.is_empty:\n"
     ]
    },
    {
     "data": {
      "text/plain": [
       "Text(0.5, 1.0, 'wgs84/utm48')"
      ]
     },
     "execution_count": 35,
     "metadata": {},
     "output_type": "execute_result"
    },
    {
     "data": {
      "image/png": "[encoded data removed]",
      "text/plain": [
       "<Figure size 800x400 with 2 Axes>"
      ]
     },
     "metadata": {},
     "output_type": "display_data"
    }
   ],
   "source": [
    "fig, ax = plt.subplots(1,2,figsize=(8,4))\n",
    "data_vec.plot(ax=ax[0])\n",
    "ax[0].set_title('wgs84')\n",
    "data_vec_utm48.plot(ax=ax[1])\n",
    "ax[1].set_title('wgs84/utm48')\n"
   ]
  },
  {
   "cell_type": "code",
   "execution_count": 36,
   "metadata": {},
   "outputs": [],
   "source": [
    "path_vec_utm48 = 'data/data-section-4/province_reporj2utm48_geopandas.shp'\n",
    "data_vec_utm48.to_file(path_vec_utm48)\n",
    "\n"
   ]
  },
  {
   "cell_type": "markdown",
   "metadata": {},
   "source": [
    "### reproject raster \n"
   ]
  },
  {
   "cell_type": "code",
   "execution_count": 1,
   "metadata": {},
   "outputs": [],
   "source": [
    "path_img = 'data/data-base/region1_l8_20190504_wgs84.tif'\n"
   ]
  },
  {
   "cell_type": "code",
   "execution_count": 5,
   "metadata": {},
   "outputs": [
    {
     "data": {
      "text/plain": [
       "BoundingBox(left=87.59975392008562, bottom=32.70990528300208, right=88.31014164676733, top=33.29066611418535)"
      ]
     },
     "execution_count": 5,
     "metadata": {},
     "output_type": "execute_result"
    }
   ],
   "source": [
    "import rasterio\n",
    "rsimg = rasterio.open(path_img)\n",
    "rsimg.crs\n",
    "rsimg.bounds"
   ]
  },
  {
   "cell_type": "code",
   "execution_count": 9,
   "metadata": {},
   "outputs": [
    {
     "name": "stdout",
     "output_type": "stream",
     "text": [
      "45\n"
     ]
    }
   ],
   "source": [
    "utm_zone = get_utm_zone(lon=88)\n",
    "print(utm_zone)\n"
   ]
  },
  {
   "cell_type": "code",
   "execution_count": 17,
   "metadata": {},
   "outputs": [],
   "source": [
    "path_img_utm45_rio = 'data/data-section-4/rsimg_reproj2utm45_rasterio.tif'\n",
    "path_img_utm45_gdal = 'data/data-section-4/rsimg_reproj2utm45_gdal.tif'\n"
   ]
  },
  {
   "cell_type": "code",
   "execution_count": 26,
   "metadata": {},
   "outputs": [],
   "source": [
    "### rasterio命令\n",
    "!rio warp --overwrite --resampling bilinear $path_img $path_img_utm45_rio --dst-crs EPSG:32645 ## rasterio 命令行指令\n"
   ]
  },
  {
   "cell_type": "code",
   "execution_count": 24,
   "metadata": {},
   "outputs": [
    {
     "name": "stdout",
     "output_type": "stream",
     "text": [
      "Processing data/data-base/region1_l8_20190504_wgs84.tif [1/1] : 0...10...20...30...40...50...60...70...80...90...100 - done.\n"
     ]
    }
   ],
   "source": [
    "### gdal命令\n",
    "!gdalwarp -s_srs EPSG:4326 -t_srs EPSG:32645 -r bilinear $path_img $path_img_utm45\n"
   ]
  }
 ],
 "metadata": {
  "kernelspec": {
   "display_name": "venv",
   "language": "python",
   "name": "python3"
  },
  "language_info": {
   "codemirror_mode": {
    "name": "ipython",
    "version": 3
   },
   "file_extension": ".py",
   "mimetype": "text/x-python",
   "name": "python",
   "nbconvert_exporter": "python",
   "pygments_lexer": "ipython3",
   "version": "3.10.12"
  }
 },
 "nbformat": 4,
 "nbformat_minor": 2
}
