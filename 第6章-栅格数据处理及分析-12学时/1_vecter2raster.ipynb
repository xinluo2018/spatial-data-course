{
 "cells": [
  {
   "cell_type": "markdown",
   "metadata": {},
   "source": [
    "### 矢量数据与栅格数据相互转换\n"
   ]
  },
  {
   "cell_type": "code",
   "execution_count": 3,
   "metadata": {},
   "outputs": [],
   "source": [
    "import geopandas as gpd\n",
    "import rasterio as rio\n",
    "from rasterio import features    ### 需要单独导入\n",
    "import matplotlib.pyplot as plt\n",
    "import numpy as np\n"
   ]
  },
  {
   "cell_type": "code",
   "execution_count": 4,
   "metadata": {},
   "outputs": [],
   "source": [
    "path_vec = 'data/data-section-5/subset_2_water.gpkg'\n",
    "path_base_raster = 'data/data-section-5/subset_2.tif'"
   ]
  },
  {
   "cell_type": "code",
   "execution_count": 12,
   "metadata": {},
   "outputs": [
    {
     "name": "stdout",
     "output_type": "stream",
     "text": [
      "   number                                           geometry\n",
      "0       1  MULTIPOLYGON (((279670.285 2754921.390, 279714...\n",
      "1       2  MULTIPOLYGON (((282816.290 2753657.755, 282999...\n",
      "2       3  MULTIPOLYGON (((281052.560 2747835.801, 281238...\n",
      "3       4  MULTIPOLYGON (((286833.384 2754476.277, 287013...\n"
     ]
    },
    {
     "name": "stderr",
     "output_type": "stream",
     "text": [
      "/Users/luo/miniconda3/envs/venv/lib/python3.11/site-packages/geopandas/plotting.py:48: ShapelyDeprecationWarning: The 'type' attribute is deprecated, and will be removed in the future. You can use the 'geom_type' attribute instead.\n",
      "  if geom is not None and geom.type.startswith(prefix) and not geom.is_empty:\n"
     ]
    },
    {
     "data": {
      "text/plain": [
       "<Axes: >"
      ]
     },
     "execution_count": 12,
     "metadata": {},
     "output_type": "execute_result"
    },
    {
     "data": {
      "image/png": "[encoded data removed]",
      "text/plain": [
       "<Figure size 640x480 with 1 Axes>"
      ]
     },
     "metadata": {},
     "output_type": "display_data"
    }
   ],
   "source": [
    "vec_gpd = gpd.read_file(path_vec)\n",
    "print(vec_gpd.head())\n",
    "vec_gpd.plot()\n"
   ]
  },
  {
   "cell_type": "code",
   "execution_count": 6,
   "metadata": {},
   "outputs": [
    {
     "data": {
      "text/plain": [
       "[<MULTIPOLYGON (((279670.285 2754921.39, 279714.6 2755007.559, 279815.542 275...>,\n",
       " <MULTIPOLYGON (((282816.29 2753657.755, 282999.521 2753637.714, 283002.384 2...>,\n",
       " <MULTIPOLYGON (((281052.56 2747835.801, 281238.845 2747914.39, 281289.782 27...>,\n",
       " <MULTIPOLYGON (((286833.384 2754476.277, 287013.945 2754491.753, 287266.729 ...>]"
      ]
     },
     "execution_count": 6,
     "metadata": {},
     "output_type": "execute_result"
    }
   ],
   "source": [
    "geos = []\n",
    "for geo in vec_gpd.geometry:\n",
    "    geos.append(geo)\n",
    "geos"
   ]
  },
  {
   "cell_type": "code",
   "execution_count": 8,
   "metadata": {},
   "outputs": [
    {
     "name": "stdout",
     "output_type": "stream",
     "text": [
      "BoundingBox(left=273060.0, bottom=2744880.0, right=292160.0, top=2757940.0)\n",
      "(20.0, 20.0)\n"
     ]
    },
    {
     "data": {
      "text/plain": [
       "{'driver': 'GTiff',\n",
       " 'dtype': 'uint16',\n",
       " 'nodata': None,\n",
       " 'width': 955,\n",
       " 'height': 653,\n",
       " 'count': 6,\n",
       " 'crs': CRS.from_epsg(32648),\n",
       " 'transform': Affine(20.0, 0.0, 273060.0,\n",
       "        0.0, -20.0, 2757940.0)}"
      ]
     },
     "execution_count": 8,
     "metadata": {},
     "output_type": "execute_result"
    }
   ],
   "source": [
    "raster = rio.open(path_base_raster)\n",
    "print(raster.bounds)\n",
    "print(raster.res)\n",
    "raster.meta\n"
   ]
  },
  {
   "cell_type": "code",
   "execution_count": 7,
   "metadata": {},
   "outputs": [],
   "source": [
    "rasterized_1 = features.rasterize(shapes=geos,\n",
    "                                out_shape = raster.shape,    ## 此处.shape获取二维形状\n",
    "                                fill = 0,\n",
    "                                out = None,\n",
    "                                transform = raster.transform,\n",
    "                                default_value = 1,\n",
    "                                dtype = None)\n"
   ]
  },
  {
   "cell_type": "markdown",
   "metadata": {},
   "source": [
    "可视化栅格化结果"
   ]
  },
  {
   "cell_type": "code",
   "execution_count": 8,
   "metadata": {},
   "outputs": [
    {
     "data": {
      "text/plain": [
       "<matplotlib.image.AxesImage at 0x10f63ee20>"
      ]
     },
     "execution_count": 8,
     "metadata": {},
     "output_type": "execute_result"
    },
    {
     "data": {
      "image/png": "[encoded data removed]",
      "text/plain": [
       "<Figure size 500x500 with 1 Axes>"
      ]
     },
     "metadata": {},
     "output_type": "display_data"
    }
   ],
   "source": [
    "fig, ax = plt.subplots(1,1, figsize = (5, 5))\n",
    "ax.imshow(rasterized_1)\n"
   ]
  },
  {
   "cell_type": "markdown",
   "metadata": {},
   "source": [
    "根据矢量数据属性值进行栅格化"
   ]
  },
  {
   "cell_type": "code",
   "execution_count": 9,
   "metadata": {},
   "outputs": [],
   "source": [
    "geos_values = zip(list(vec_gpd['geometry']), list(vec_gpd['number']))\n",
    "geos_values = list(geos_values)\n",
    "# Rasterize vector using the shape and transform of the raster\n",
    "rasterized_2 = features.rasterize(shapes=geos_values,\n",
    "                                out_shape = raster.shape,\n",
    "                                transform = raster.transform,\n",
    "                                all_touched = True,\n",
    "                                fill = 0,   # background value\n",
    "                                # merge_alg = MergeAlg.replace,\n",
    "                                dtype = None)"
   ]
  },
  {
   "cell_type": "code",
   "execution_count": 10,
   "metadata": {},
   "outputs": [
    {
     "data": {
      "text/plain": [
       "<matplotlib.image.AxesImage at 0x139aad640>"
      ]
     },
     "execution_count": 10,
     "metadata": {},
     "output_type": "execute_result"
    },
    {
     "data": {
      "image/png": "[encoded data removed]",
      "text/plain": [
       "<Figure size 500x500 with 1 Axes>"
      ]
     },
     "metadata": {},
     "output_type": "display_data"
    }
   ],
   "source": [
    "fig, ax = plt.subplots(1,1, figsize = (5, 5))\n",
    "ax.imshow(rasterized_2)\n"
   ]
  },
  {
   "cell_type": "markdown",
   "metadata": {},
   "source": [
    "写出栅格化数据"
   ]
  },
  {
   "cell_type": "code",
   "execution_count": 15,
   "metadata": {},
   "outputs": [],
   "source": [
    "path_out = 'data/data-section-5/subset_2_water_rasterize2_python.tif'\n",
    "with rio.open(path_out, 'w', driver=raster.driver, \n",
    "                   height=raster.height,\n",
    "                   width=raster.width,\n",
    "                   count=1,\n",
    "                   dtype=np.int16,\n",
    "                   crs=raster.crs,\n",
    "                   transform=raster.transform) as dst:\n",
    "  dst.write(rasterized_2, 1)    ## the number 1 is the number of bands.\n"
   ]
  },
  {
   "cell_type": "markdown",
   "metadata": {},
   "source": [
    "gdal命令行工具   \n",
    "1. 矢量转栅格\n",
    "gdal_rasterize: https://gdal.org/programs/gdal_rasterize.html\n"
   ]
  },
  {
   "cell_type": "code",
   "execution_count": 13,
   "metadata": {},
   "outputs": [
    {
     "name": "stdout",
     "output_type": "stream",
     "text": [
      "0...10...20...30...40...50...60...70...80...90...100 - done.\n"
     ]
    }
   ],
   "source": [
    "path_vec = 'data/data-section-5/subset_2_water.gpkg'\n",
    "path_out = 'data/data-section-5/subset_2_water_rasterize2_gdal.tif'\n",
    "# !gdal_rasterize -tr 20 20 -burn 1 $path_vec $path_out\n",
    "# !gdal_rasterize -tr 20 20 -burn 1 $path_vec $path_out -te 273060.0, 2744880.0, 292160.0, 2757940.0\n",
    "!gdal_rasterize -tr 20 20 -a number $path_vec $path_out -te 273060.0, 2744880.0, 292160.0, 2757940.0\n"
   ]
  },
  {
   "cell_type": "markdown",
   "metadata": {},
   "source": [
    "2. 栅格转矢量   \n",
    " gdal_polygonize: https://gdal.org/programs/gdal_polygonize.html"
   ]
  },
  {
   "cell_type": "code",
   "execution_count": 16,
   "metadata": {},
   "outputs": [
    {
     "name": "stdout",
     "output_type": "stream",
     "text": [
      "Creating output data/data-section-5/subset_2_water_polygonize_gdal.gpkg of format GPKG.\n",
      "0...10...20...30...40...50...60...70...80...90...100 - done.\n"
     ]
    }
   ],
   "source": [
    "path_raster = 'data/data-section-5/subset_2_water_rasterize2_gdal.tif'\n",
    "path_out = 'data/data-section-5/subset_2_water_polygonize_gdal.gpkg'\n",
    "!gdal_polygonize.py -overwrite $path_raster $path_out\n"
   ]
  }
 ],
 "metadata": {
  "kernelspec": {
   "display_name": "gis-course",
   "language": "python",
   "name": "python3"
  },
  "language_info": {
   "codemirror_mode": {
    "name": "ipython",
    "version": 3
   },
   "file_extension": ".py",
   "mimetype": "text/x-python",
   "name": "python",
   "nbconvert_exporter": "python",
   "pygments_lexer": "ipython3",
   "version": "3.11.5"
  }
 },
 "nbformat": 4,
 "nbformat_minor": 2
}
