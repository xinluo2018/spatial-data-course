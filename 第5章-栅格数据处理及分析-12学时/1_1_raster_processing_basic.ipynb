{
 "cells": [
  {
   "cell_type": "markdown",
   "metadata": {},
   "source": [
    "### 栅格数据处理：重采样、裁剪、拼接、光谱指数计算"
   ]
  },
  {
   "cell_type": "markdown",
   "metadata": {},
   "source": [
    "遥感影像重采样  \n",
    "gdalwarp, https://gdal.org/programs/gdalwarp.html"
   ]
  },
  {
   "cell_type": "code",
   "execution_count": 6,
   "metadata": {},
   "outputs": [],
   "source": [
    "width, height = 1000, 1000\n",
    "path_in = 'data/data-base/region1_l8_20190504_wgs84.tif'\n",
    "path_out = 'data/data-section-5/rsimg_resam_gdal.tif'\n"
   ]
  },
  {
   "cell_type": "code",
   "execution_count": 7,
   "metadata": {},
   "outputs": [
    {
     "name": "stdout",
     "output_type": "stream",
     "text": [
      "Creating output file that is 1000P x 1000L.\n",
      "Processing data/data-base/region1_l8_20190504_wgs84.tif [1/1] : 0...10...20...30...40...50...60...70...80...90...100 - done.\n"
     ]
    }
   ],
   "source": [
    "!gdalwarp -co COMPRESS=LZW -ts $width $height -r bilinear $path_in $path_out\n"
   ]
  },
  {
   "cell_type": "markdown",
   "metadata": {},
   "source": [
    "波段合并  \n",
    "gdal_merge.py, https://gdal.org/programs/gdal_merge.html\n"
   ]
  },
  {
   "cell_type": "code",
   "execution_count": 12,
   "metadata": {},
   "outputs": [],
   "source": [
    "path_out = 'data/data-base/s2_2bands_gdal.tif'\n",
    "path_band1 = 'data/data-base/S2B_MSIL2A_20240415T033539_N0510_R061_T48RTN_20240415T062333.SAFE/GRANULE/L2A_T48RTN_A037124_20240415T034512/IMG_DATA/R10m/T48RTN_20240415T033539_B02_10m.jp2'\n",
    "path_band2 = 'data/data-base/S2B_MSIL2A_20240415T033539_N0510_R061_T48RTN_20240415T062333.SAFE/GRANULE/L2A_T48RTN_A037124_20240415T034512/IMG_DATA/R10m/T48RTN_20240415T033539_B03_10m.jp2'\n"
   ]
  },
  {
   "cell_type": "code",
   "execution_count": 13,
   "metadata": {},
   "outputs": [
    {
     "name": "stdout",
     "output_type": "stream",
     "text": [
      "0...10...20...30...40...50...60...70...80...90...100 - done.\n"
     ]
    }
   ],
   "source": [
    "!gdal_merge.py -ot uint16 -separate -o $path_out $path_band1 $path_band2\n"
   ]
  },
  {
   "cell_type": "markdown",
   "metadata": {},
   "source": [
    "影像裁剪   \n",
    "gdal_translate, https://gdal.org/programs/gdal_translate.html   \n",
    "gdalwarp, https://gdal.org/programs/gdalwarp.html  "
   ]
  },
  {
   "cell_type": "code",
   "execution_count": 18,
   "metadata": {},
   "outputs": [],
   "source": [
    "path_shp = 'data/data-section-5/subset_1.gpkg'\n",
    "path_in = 'data/data-base/s2_6bands.tif'\n",
    "path_out = 'data/data-section-5/subset_1_gdal.tif'\n"
   ]
  },
  {
   "cell_type": "code",
   "execution_count": 50,
   "metadata": {},
   "outputs": [
    {
     "name": "stdout",
     "output_type": "stream",
     "text": [
      "265585.394613  2748538.891315 285806.265252 2735642.115553\n"
     ]
    },
    {
     "name": "stderr",
     "output_type": "stream",
     "text": [
      "/var/folders/n0/3pzbdww50rgbs420szyd042c0000gn/T/ipykernel_48539/2420816591.py:8: DeprecationWarning: Conversion of an array with ndim > 0 to a scalar is deprecated, and will error in future. Ensure you extract a single element from your array before performing this operation. (Deprecated NumPy 1.25.)\n",
      "  extent = '%f  %f %f %f' % (left, up, right, bottom)\n"
     ]
    }
   ],
   "source": [
    "## crop to the extent of shapefile.\n",
    "import geopandas as gdp\n",
    "shp_gpd = gdp.read_file(path_shp)\n",
    "left, bottom, right, up =  shp_gpd.bounds['minx'].values, shp_gpd.bounds['miny'].values,  \\\n",
    "                            shp_gpd.bounds['maxx'].values, shp_gpd.bounds['maxy'].values \n",
    "\n",
    "extent = '%f  %f %f %f' % (left, up, right, bottom)\n",
    "# shp_gpd.bounds\n",
    "print(extent)\n"
   ]
  },
  {
   "cell_type": "code",
   "execution_count": 49,
   "metadata": {},
   "outputs": [
    {
     "name": "stdout",
     "output_type": "stream",
     "text": [
      "Input file size is 5490, 5490\n",
      "0...10...20...30...40...50...60...70...80...90...100 - done.\n"
     ]
    }
   ],
   "source": [
    "# extent: str(ulx) str(uly) str(lrx) str(lry), e.g., extent='72 38 84 34'\n",
    "!gdal_translate -projwin $extent -co COMPRESS=LZW $path_in $path_out\n"
   ]
  },
  {
   "cell_type": "code",
   "execution_count": null,
   "metadata": {},
   "outputs": [],
   "source": [
    "## mask the region out of the shapefile extent.\n",
    "!gdalwarp -cutline $path_shp -crop_to_cutline -overwrite $path_input $path_output\n"
   ]
  },
  {
   "cell_type": "markdown",
   "metadata": {},
   "source": [
    "影像拼接    \n",
    "gdal_merge.py, https://gdal.org/programs/gdal_merge.html"
   ]
  },
  {
   "cell_type": "code",
   "execution_count": 5,
   "metadata": {},
   "outputs": [],
   "source": [
    "path_img1 = 'data/data-section-5/subset_1.tif'\n",
    "path_img2 = 'data/data-section-5/subset_2_shift.tif'\n",
    "path_out = 'data/data-section-5/img_mosaic_gdal.tif'\n"
   ]
  },
  {
   "cell_type": "code",
   "execution_count": 6,
   "metadata": {},
   "outputs": [
    {
     "name": "stdout",
     "output_type": "stream",
     "text": [
      "0...10...20...30...40...50...60...70...80...90...100 - done.\n"
     ]
    }
   ],
   "source": [
    "### the last image is on the top layer.\n",
    "!gdal_merge.py -init 0 -co COMPRESS=LZW -o $path_out $path_img1 $path_img2 \n"
   ]
  }
 ],
 "metadata": {
  "kernelspec": {
   "display_name": "venv",
   "language": "python",
   "name": "python3"
  },
  "language_info": {
   "codemirror_mode": {
    "name": "ipython",
    "version": 3
   },
   "file_extension": ".py",
   "mimetype": "text/x-python",
   "name": "python",
   "nbconvert_exporter": "python",
   "pygments_lexer": "ipython3",
   "version": "3.11.5"
  }
 },
 "nbformat": 4,
 "nbformat_minor": 2
}
